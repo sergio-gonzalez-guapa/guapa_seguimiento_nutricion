{
 "metadata": {
  "language_info": {
   "codemirror_mode": {
    "name": "ipython",
    "version": 3
   },
   "file_extension": ".py",
   "mimetype": "text/x-python",
   "name": "python",
   "nbconvert_exporter": "python",
   "pygments_lexer": "ipython3",
   "version": "3.7.8-final"
  },
  "orig_nbformat": 2,
  "kernelspec": {
   "name": "python3",
   "display_name": "Python 3.7.8 64-bit ('em_env': conda)",
   "metadata": {
    "interpreter": {
     "hash": "0d1f8cd30420b4b07a2427f6e2901b9250e4317dda1cd14235c99d7fe4293b58"
    }
   }
  }
 },
 "nbformat": 4,
 "nbformat_minor": 2,
 "cells": [
  {
   "cell_type": "code",
   "execution_count": 1,
   "metadata": {},
   "outputs": [
    {
     "output_type": "execute_result",
     "data": {
      "text/plain": [
       "'es_ES.utf8'"
      ]
     },
     "metadata": {},
     "execution_count": 1
    }
   ],
   "source": [
    "import pandas as pd\n",
    "import pickle\n",
    "import locale \n",
    "\n",
    "locale.setlocale(locale.LC_TIME, 'es_ES.utf8')"
   ]
  },
  {
   "cell_type": "code",
   "execution_count": 3,
   "metadata": {},
   "outputs": [],
   "source": [
    "categorias_de_aplicacion = pd.read_excel(\"relacion_insumos_principales_categorias.xlsx\")"
   ]
  },
  {
   "cell_type": "code",
   "execution_count": 5,
   "metadata": {},
   "outputs": [
    {
     "output_type": "execute_result",
     "data": {
      "text/plain": [
       "     insumo                                 descripcion_insumo  \\\n",
       "0    AA0045                   GLIBOR CALCIO (16,8% CaO+4,2% B)   \n",
       "4    AA0016                                           10-30-10   \n",
       "5    AA0058                                 10-30-10 + MENORES   \n",
       "9    AC0284                                 ACIDO BORICO POLVO   \n",
       "18   AI0064                                             ALISIN   \n",
       "..      ...                                                ...   \n",
       "164    1016                                SULFATO DE MAGNESIO   \n",
       "170  AF0101                                      TRIVOR 310 DC   \n",
       "173  AA0064  VINAZA BIORGANIK (Humedad 1,20% Cenizas 25,8% ...   \n",
       "175  AF0098                      ZOOM DIMETOMORPH, PROPAMUCARB   \n",
       "180  AI0060                                                NaN   \n",
       "\n",
       "    categorias_por_insumo  \n",
       "0            Fertilizante  \n",
       "4            Fertilizante  \n",
       "5            Fertilizante  \n",
       "9            Fertilizante  \n",
       "18            insecticida  \n",
       "..                    ...  \n",
       "164          Fertilizante  \n",
       "170           insecticida  \n",
       "173          Fertilizante  \n",
       "175             fungicida  \n",
       "180           insecticida  \n",
       "\n",
       "[75 rows x 3 columns]"
      ],
      "text/html": "<div>\n<style scoped>\n    .dataframe tbody tr th:only-of-type {\n        vertical-align: middle;\n    }\n\n    .dataframe tbody tr th {\n        vertical-align: top;\n    }\n\n    .dataframe thead th {\n        text-align: right;\n    }\n</style>\n<table border=\"1\" class=\"dataframe\">\n  <thead>\n    <tr style=\"text-align: right;\">\n      <th></th>\n      <th>insumo</th>\n      <th>descripcion_insumo</th>\n      <th>categorias_por_insumo</th>\n    </tr>\n  </thead>\n  <tbody>\n    <tr>\n      <th>0</th>\n      <td>AA0045</td>\n      <td>GLIBOR CALCIO (16,8% CaO+4,2% B)</td>\n      <td>Fertilizante</td>\n    </tr>\n    <tr>\n      <th>4</th>\n      <td>AA0016</td>\n      <td>10-30-10</td>\n      <td>Fertilizante</td>\n    </tr>\n    <tr>\n      <th>5</th>\n      <td>AA0058</td>\n      <td>10-30-10 + MENORES</td>\n      <td>Fertilizante</td>\n    </tr>\n    <tr>\n      <th>9</th>\n      <td>AC0284</td>\n      <td>ACIDO BORICO POLVO</td>\n      <td>Fertilizante</td>\n    </tr>\n    <tr>\n      <th>18</th>\n      <td>AI0064</td>\n      <td>ALISIN</td>\n      <td>insecticida</td>\n    </tr>\n    <tr>\n      <th>...</th>\n      <td>...</td>\n      <td>...</td>\n      <td>...</td>\n    </tr>\n    <tr>\n      <th>164</th>\n      <td>1016</td>\n      <td>SULFATO DE MAGNESIO</td>\n      <td>Fertilizante</td>\n    </tr>\n    <tr>\n      <th>170</th>\n      <td>AF0101</td>\n      <td>TRIVOR 310 DC</td>\n      <td>insecticida</td>\n    </tr>\n    <tr>\n      <th>173</th>\n      <td>AA0064</td>\n      <td>VINAZA BIORGANIK (Humedad 1,20% Cenizas 25,8% ...</td>\n      <td>Fertilizante</td>\n    </tr>\n    <tr>\n      <th>175</th>\n      <td>AF0098</td>\n      <td>ZOOM DIMETOMORPH, PROPAMUCARB</td>\n      <td>fungicida</td>\n    </tr>\n    <tr>\n      <th>180</th>\n      <td>AI0060</td>\n      <td>NaN</td>\n      <td>insecticida</td>\n    </tr>\n  </tbody>\n</table>\n<p>75 rows × 3 columns</p>\n</div>"
     },
     "metadata": {},
     "execution_count": 5
    }
   ],
   "source": [
    "categorias_de_aplicacion.dropna(subset=[\"categorias_por_insumo\"])"
   ]
  },
  {
   "cell_type": "code",
   "execution_count": 29,
   "metadata": {},
   "outputs": [
    {
     "output_type": "execute_result",
     "data": {
      "text/plain": [
       "'herbicida'"
      ]
     },
     "metadata": {},
     "execution_count": 29
    }
   ],
   "source": [
    "categorias_de_aplicacion.iat[0,-1]"
   ]
  },
  {
   "cell_type": "code",
   "execution_count": 9,
   "metadata": {},
   "outputs": [
    {
     "output_type": "execute_result",
     "data": {
      "text/plain": [
       "['{', 'herbicida', '}']"
      ]
     },
     "metadata": {},
     "execution_count": 9
    }
   ],
   "source": [
    "categorias_de_aplicacion.iat[10,-1].split(\"'\")"
   ]
  },
  {
   "cell_type": "code",
   "execution_count": 36,
   "metadata": {},
   "outputs": [],
   "source": [
    "tooltip = [\n",
    "        {\n",
    "            column: {'value': str(value), 'type': 'markdown'}\n",
    "            for column, value in row.items()\n",
    "        } for row in nutricion_preforza_pc[[\"formula\"]].to_dict('rows')\n",
    "    ]"
   ]
  },
  {
   "cell_type": "code",
   "execution_count": 42,
   "metadata": {},
   "outputs": [
    {
     "output_type": "execute_result",
     "data": {
      "text/plain": [
       "{'formula': {'value': 'FF-01', 'type': 'markdown'}}"
      ]
     },
     "metadata": {},
     "execution_count": 42
    }
   ],
   "source": [
    "tooltip[3]"
   ]
  },
  {
   "cell_type": "code",
   "execution_count": 75,
   "metadata": {},
   "outputs": [],
   "source": [
    "insumos = pd.read_excel(\"insumos_por_aplicacion.xlsx\")\n",
    "insumos[\"agrupacion\"] = insumos.groupby(\"id_formula\")[\"Descripcion\"].transform(lambda x: \"\\n\".join(x))\n",
    "insumos.drop_duplicates(subset=[\"id_formula\"],inplace=True)\n",
    "insumos[\"tooltip\"]=\"Descripción aplicación: \" + insumos.descripcion_formula + \"\\n\"+insumos.agrupacion\n",
    "diccionario_insumos = insumos.set_index(\"id_formula\")[\"tooltip\"].to_dict()"
   ]
  },
  {
   "cell_type": "code",
   "execution_count": 81,
   "metadata": {},
   "outputs": [],
   "source": []
  },
  {
   "cell_type": "code",
   "execution_count": 2,
   "metadata": {},
   "outputs": [],
   "source": [
    "calendario_plan = pd.read_excel(\"calendario_aplicaciones.xlsx\")\n",
    "calendario_plan.drop([\"y\"],axis=1,inplace=True)\n",
    "aplicaciones = pd.read_excel(\"entregable1.xlsx\",sheet_name=\"data\")"
   ]
  },
  {
   "cell_type": "code",
   "execution_count": 4,
   "metadata": {},
   "outputs": [],
   "source": [
    "#Extraer fechas de inicio\n",
    "fecha_inicio = aplicaciones.sort_values(by=[\"bloque\",\"fecha_aplicacion\"]).drop_duplicates(subset=[\"bloque\"],keep='first')\n",
    "dicc_fecha_inicio = {}\n",
    "for index, row in fecha_inicio.iterrows():\n",
    "    dicc_fecha_inicio[row[\"bloque\"]] = row[\"fecha_aplicacion\"]"
   ]
  },
  {
   "cell_type": "code",
   "execution_count": 35,
   "metadata": {},
   "outputs": [],
   "source": [
    "aplicaciones_unicas = aplicaciones.sort_values(by=[\"bloque\",\"fecha_aplicacion\"]).drop_duplicates(subset=[\"bloque\",\"homologación\"],keep='first')[[\"fecha_aplicacion\",\"bloque\",\"homologación\"]]"
   ]
  },
  {
   "cell_type": "code",
   "execution_count": 54,
   "metadata": {},
   "outputs": [],
   "source": [
    "dicc_plan_aplicaciones = {}\n",
    "for bloque in dicc_fecha_inicio.keys():\n",
    "\n",
    "    fecha_inicial = dicc_fecha_inicio[bloque]\n",
    "    calendario_temp = calendario_plan.copy()\n",
    "    calendario_temp[\"bloque\"]=bloque\n",
    "    calendario_temp[\"fechas\"]=calendario_temp[\"dias\"].apply(lambda x: fecha_inicial +pd.Timedelta(days=x))\n",
    "    ejecucion_temp = aplicaciones_unicas.query(\"bloque==@bloque\").drop([\"bloque\"],axis=1)\n",
    "    ejecucion_temp.columns = [\"fecha_ejecucion\",\"aplicacion\"]\n",
    "    calendario_temp = calendario_temp.merge(ejecucion_temp,how='left',on=\"aplicacion\")\n",
    "    calendario_temp[\"ejecucion-plan\"]= calendario_temp[\"fecha_ejecucion\"]-calendario_temp[\"fechas\"]\n",
    "    dicc_plan_aplicaciones[bloque] = calendario_temp.copy()\n",
    "\n",
    "file_to_write = open(\"seguimiento_aplicaciones.pkl\", \"wb\")\n",
    "pickle.dump(dicc_plan_aplicaciones, file_to_write)"
   ]
  },
  {
   "cell_type": "code",
   "execution_count": 55,
   "metadata": {},
   "outputs": [],
   "source": []
  },
  {
   "cell_type": "code",
   "execution_count": 57,
   "metadata": {},
   "outputs": [
    {
     "output_type": "execute_result",
     "data": {
      "text/plain": [
       "dict"
      ]
     },
     "metadata": {},
     "execution_count": 57
    }
   ],
   "source": [
    "type(object_file)"
   ]
  },
  {
   "cell_type": "code",
   "execution_count": 82,
   "metadata": {},
   "outputs": [],
   "source": [
    "file = open(\"seguimiento_aplicaciones.pkl\",'rb')\n",
    "object_file = pickle.load(file)\n",
    "file.close()\n",
    "fechas_pendientes = pd.concat(object_file.values()).query('fecha_ejecucion in [@pd.NaT]')[[\"aplicacion\",\"bloque\",\"fechas\"]]\n",
    "fechas_pendientes[\"retraso\"]=pd.Timestamp.today() - fechas_pendientes[\"fechas\"]\n",
    "fechas_pendientes[\"retraso\"] = fechas_pendientes.retraso.dt.days\n",
    "fechas_pendientes.query(\"retraso>0\",inplace=True)\n",
    "fechas_pendientes.sort_values(by=\"retraso\",ascending=False,inplace=True)"
   ]
  },
  {
   "cell_type": "code",
   "execution_count": 83,
   "metadata": {},
   "outputs": [
    {
     "output_type": "execute_result",
     "data": {
      "text/plain": [
       "          aplicacion  bloque     fechas  retraso\n",
       "8          Edafico 1   10619 2020-03-22      206\n",
       "4       Protección 2   10120 2020-05-06      161\n",
       "4       Protección 2   10419 2020-05-06      161\n",
       "4       Protección 2   10220 2020-05-06      161\n",
       "4       Protección 2   10519 2020-05-06      161\n",
       "4       Protección 2   10320 2020-05-06      161\n",
       "8          Edafico 1   10220 2020-05-31      136\n",
       "8          Edafico 1   10519 2020-05-31      136\n",
       "8          Edafico 1   10120 2020-05-31      136\n",
       "8          Edafico 1   10419 2020-05-31      136\n",
       "8          Edafico 1   10320 2020-05-31      136\n",
       "12          Foliar 5   10320 2020-06-30      106\n",
       "21         Foliar 10   10619 2020-07-15       91\n",
       "22      Protección 7   10619 2020-07-20       86\n",
       "23   Visita previa 9   10619 2020-07-30       76\n",
       "24         Foliar 11   10619 2020-07-30       76\n",
       "25       Herbicida 6   10619 2020-08-09       66\n",
       "26         Foliar 12   10619 2020-08-14       61\n",
       "27  Visita previa 10   10619 2020-08-19       56\n",
       "29      Protección 8   10619 2020-08-24       51\n",
       "28         Foliar 13   10619 2020-08-29       46\n",
       "30         Foliar 14   10619 2020-09-08       36\n",
       "31  Visita previa 11   10619 2020-09-18       26\n",
       "32       Herbicida 7   10619 2020-09-18       26\n",
       "21         Foliar 10   10519 2020-09-23       21\n",
       "21         Foliar 10   10120 2020-09-23       21\n",
       "33         Foliar 15   10619 2020-09-23       21\n",
       "21         Foliar 10   10220 2020-09-23       21\n",
       "21         Foliar 10   10419 2020-09-23       21\n",
       "21         Foliar 10   10320 2020-09-23       21\n",
       "22      Protección 7   10519 2020-09-28       16\n",
       "22      Protección 7   10220 2020-09-28       16\n",
       "22      Protección 7   10419 2020-09-28       16\n",
       "22      Protección 7   10120 2020-09-28       16\n",
       "22      Protección 7   10320 2020-09-28       16\n",
       "34      Protección 9   10619 2020-10-03       11\n",
       "23   Visita previa 9   10419 2020-10-08        6\n",
       "24         Foliar 11   10519 2020-10-08        6\n",
       "23   Visita previa 9   10519 2020-10-08        6\n",
       "24         Foliar 11   10419 2020-10-08        6\n",
       "24         Foliar 11   10320 2020-10-08        6\n",
       "23   Visita previa 9   10320 2020-10-08        6\n",
       "24         Foliar 11   10220 2020-10-08        6\n",
       "23   Visita previa 9   10220 2020-10-08        6\n",
       "24         Foliar 11   10120 2020-10-08        6\n",
       "23   Visita previa 9   10120 2020-10-08        6\n",
       "35         Foliar 16   10619 2020-10-08        6"
      ],
      "text/html": "<div>\n<style scoped>\n    .dataframe tbody tr th:only-of-type {\n        vertical-align: middle;\n    }\n\n    .dataframe tbody tr th {\n        vertical-align: top;\n    }\n\n    .dataframe thead th {\n        text-align: right;\n    }\n</style>\n<table border=\"1\" class=\"dataframe\">\n  <thead>\n    <tr style=\"text-align: right;\">\n      <th></th>\n      <th>aplicacion</th>\n      <th>bloque</th>\n      <th>fechas</th>\n      <th>retraso</th>\n    </tr>\n  </thead>\n  <tbody>\n    <tr>\n      <th>8</th>\n      <td>Edafico 1</td>\n      <td>10619</td>\n      <td>2020-03-22</td>\n      <td>206</td>\n    </tr>\n    <tr>\n      <th>4</th>\n      <td>Protección 2</td>\n      <td>10120</td>\n      <td>2020-05-06</td>\n      <td>161</td>\n    </tr>\n    <tr>\n      <th>4</th>\n      <td>Protección 2</td>\n      <td>10419</td>\n      <td>2020-05-06</td>\n      <td>161</td>\n    </tr>\n    <tr>\n      <th>4</th>\n      <td>Protección 2</td>\n      <td>10220</td>\n      <td>2020-05-06</td>\n      <td>161</td>\n    </tr>\n    <tr>\n      <th>4</th>\n      <td>Protección 2</td>\n      <td>10519</td>\n      <td>2020-05-06</td>\n      <td>161</td>\n    </tr>\n    <tr>\n      <th>4</th>\n      <td>Protección 2</td>\n      <td>10320</td>\n      <td>2020-05-06</td>\n      <td>161</td>\n    </tr>\n    <tr>\n      <th>8</th>\n      <td>Edafico 1</td>\n      <td>10220</td>\n      <td>2020-05-31</td>\n      <td>136</td>\n    </tr>\n    <tr>\n      <th>8</th>\n      <td>Edafico 1</td>\n      <td>10519</td>\n      <td>2020-05-31</td>\n      <td>136</td>\n    </tr>\n    <tr>\n      <th>8</th>\n      <td>Edafico 1</td>\n      <td>10120</td>\n      <td>2020-05-31</td>\n      <td>136</td>\n    </tr>\n    <tr>\n      <th>8</th>\n      <td>Edafico 1</td>\n      <td>10419</td>\n      <td>2020-05-31</td>\n      <td>136</td>\n    </tr>\n    <tr>\n      <th>8</th>\n      <td>Edafico 1</td>\n      <td>10320</td>\n      <td>2020-05-31</td>\n      <td>136</td>\n    </tr>\n    <tr>\n      <th>12</th>\n      <td>Foliar 5</td>\n      <td>10320</td>\n      <td>2020-06-30</td>\n      <td>106</td>\n    </tr>\n    <tr>\n      <th>21</th>\n      <td>Foliar 10</td>\n      <td>10619</td>\n      <td>2020-07-15</td>\n      <td>91</td>\n    </tr>\n    <tr>\n      <th>22</th>\n      <td>Protección 7</td>\n      <td>10619</td>\n      <td>2020-07-20</td>\n      <td>86</td>\n    </tr>\n    <tr>\n      <th>23</th>\n      <td>Visita previa 9</td>\n      <td>10619</td>\n      <td>2020-07-30</td>\n      <td>76</td>\n    </tr>\n    <tr>\n      <th>24</th>\n      <td>Foliar 11</td>\n      <td>10619</td>\n      <td>2020-07-30</td>\n      <td>76</td>\n    </tr>\n    <tr>\n      <th>25</th>\n      <td>Herbicida 6</td>\n      <td>10619</td>\n      <td>2020-08-09</td>\n      <td>66</td>\n    </tr>\n    <tr>\n      <th>26</th>\n      <td>Foliar 12</td>\n      <td>10619</td>\n      <td>2020-08-14</td>\n      <td>61</td>\n    </tr>\n    <tr>\n      <th>27</th>\n      <td>Visita previa 10</td>\n      <td>10619</td>\n      <td>2020-08-19</td>\n      <td>56</td>\n    </tr>\n    <tr>\n      <th>29</th>\n      <td>Protección 8</td>\n      <td>10619</td>\n      <td>2020-08-24</td>\n      <td>51</td>\n    </tr>\n    <tr>\n      <th>28</th>\n      <td>Foliar 13</td>\n      <td>10619</td>\n      <td>2020-08-29</td>\n      <td>46</td>\n    </tr>\n    <tr>\n      <th>30</th>\n      <td>Foliar 14</td>\n      <td>10619</td>\n      <td>2020-09-08</td>\n      <td>36</td>\n    </tr>\n    <tr>\n      <th>31</th>\n      <td>Visita previa 11</td>\n      <td>10619</td>\n      <td>2020-09-18</td>\n      <td>26</td>\n    </tr>\n    <tr>\n      <th>32</th>\n      <td>Herbicida 7</td>\n      <td>10619</td>\n      <td>2020-09-18</td>\n      <td>26</td>\n    </tr>\n    <tr>\n      <th>21</th>\n      <td>Foliar 10</td>\n      <td>10519</td>\n      <td>2020-09-23</td>\n      <td>21</td>\n    </tr>\n    <tr>\n      <th>21</th>\n      <td>Foliar 10</td>\n      <td>10120</td>\n      <td>2020-09-23</td>\n      <td>21</td>\n    </tr>\n    <tr>\n      <th>33</th>\n      <td>Foliar 15</td>\n      <td>10619</td>\n      <td>2020-09-23</td>\n      <td>21</td>\n    </tr>\n    <tr>\n      <th>21</th>\n      <td>Foliar 10</td>\n      <td>10220</td>\n      <td>2020-09-23</td>\n      <td>21</td>\n    </tr>\n    <tr>\n      <th>21</th>\n      <td>Foliar 10</td>\n      <td>10419</td>\n      <td>2020-09-23</td>\n      <td>21</td>\n    </tr>\n    <tr>\n      <th>21</th>\n      <td>Foliar 10</td>\n      <td>10320</td>\n      <td>2020-09-23</td>\n      <td>21</td>\n    </tr>\n    <tr>\n      <th>22</th>\n      <td>Protección 7</td>\n      <td>10519</td>\n      <td>2020-09-28</td>\n      <td>16</td>\n    </tr>\n    <tr>\n      <th>22</th>\n      <td>Protección 7</td>\n      <td>10220</td>\n      <td>2020-09-28</td>\n      <td>16</td>\n    </tr>\n    <tr>\n      <th>22</th>\n      <td>Protección 7</td>\n      <td>10419</td>\n      <td>2020-09-28</td>\n      <td>16</td>\n    </tr>\n    <tr>\n      <th>22</th>\n      <td>Protección 7</td>\n      <td>10120</td>\n      <td>2020-09-28</td>\n      <td>16</td>\n    </tr>\n    <tr>\n      <th>22</th>\n      <td>Protección 7</td>\n      <td>10320</td>\n      <td>2020-09-28</td>\n      <td>16</td>\n    </tr>\n    <tr>\n      <th>34</th>\n      <td>Protección 9</td>\n      <td>10619</td>\n      <td>2020-10-03</td>\n      <td>11</td>\n    </tr>\n    <tr>\n      <th>23</th>\n      <td>Visita previa 9</td>\n      <td>10419</td>\n      <td>2020-10-08</td>\n      <td>6</td>\n    </tr>\n    <tr>\n      <th>24</th>\n      <td>Foliar 11</td>\n      <td>10519</td>\n      <td>2020-10-08</td>\n      <td>6</td>\n    </tr>\n    <tr>\n      <th>23</th>\n      <td>Visita previa 9</td>\n      <td>10519</td>\n      <td>2020-10-08</td>\n      <td>6</td>\n    </tr>\n    <tr>\n      <th>24</th>\n      <td>Foliar 11</td>\n      <td>10419</td>\n      <td>2020-10-08</td>\n      <td>6</td>\n    </tr>\n    <tr>\n      <th>24</th>\n      <td>Foliar 11</td>\n      <td>10320</td>\n      <td>2020-10-08</td>\n      <td>6</td>\n    </tr>\n    <tr>\n      <th>23</th>\n      <td>Visita previa 9</td>\n      <td>10320</td>\n      <td>2020-10-08</td>\n      <td>6</td>\n    </tr>\n    <tr>\n      <th>24</th>\n      <td>Foliar 11</td>\n      <td>10220</td>\n      <td>2020-10-08</td>\n      <td>6</td>\n    </tr>\n    <tr>\n      <th>23</th>\n      <td>Visita previa 9</td>\n      <td>10220</td>\n      <td>2020-10-08</td>\n      <td>6</td>\n    </tr>\n    <tr>\n      <th>24</th>\n      <td>Foliar 11</td>\n      <td>10120</td>\n      <td>2020-10-08</td>\n      <td>6</td>\n    </tr>\n    <tr>\n      <th>23</th>\n      <td>Visita previa 9</td>\n      <td>10120</td>\n      <td>2020-10-08</td>\n      <td>6</td>\n    </tr>\n    <tr>\n      <th>35</th>\n      <td>Foliar 16</td>\n      <td>10619</td>\n      <td>2020-10-08</td>\n      <td>6</td>\n    </tr>\n  </tbody>\n</table>\n</div>"
     },
     "metadata": {},
     "execution_count": 83
    }
   ],
   "source": [
    "fechas_pendientes"
   ]
  },
  {
   "cell_type": "code",
   "execution_count": 67,
   "metadata": {},
   "outputs": [
    {
     "output_type": "execute_result",
     "data": {
      "text/plain": [
       "Timestamp('2020-10-14 08:29:18.430450')"
      ]
     },
     "metadata": {},
     "execution_count": 67
    }
   ],
   "source": [
    "pd.Timestamp.today()"
   ]
  }
 ]
}