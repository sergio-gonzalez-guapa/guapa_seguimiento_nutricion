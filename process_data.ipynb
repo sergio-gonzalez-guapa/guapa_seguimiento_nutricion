{
 "metadata": {
  "language_info": {
   "codemirror_mode": {
    "name": "ipython",
    "version": 3
   },
   "file_extension": ".py",
   "mimetype": "text/x-python",
   "name": "python",
   "nbconvert_exporter": "python",
   "pygments_lexer": "ipython3",
   "version": "3.7.8-final"
  },
  "orig_nbformat": 2,
  "kernelspec": {
   "name": "python3",
   "display_name": "Python 3.7.8 64-bit ('em_env': conda)",
   "metadata": {
    "interpreter": {
     "hash": "0d1f8cd30420b4b07a2427f6e2901b9250e4317dda1cd14235c99d7fe4293b58"
    }
   }
  }
 },
 "nbformat": 4,
 "nbformat_minor": 2,
 "cells": [
  {
   "cell_type": "code",
   "execution_count": 51,
   "metadata": {},
   "outputs": [
    {
     "output_type": "execute_result",
     "data": {
      "text/plain": [
       "'es_ES.utf8'"
      ]
     },
     "metadata": {},
     "execution_count": 51
    }
   ],
   "source": [
    "import pandas as pd\n",
    "import numpy as np\n",
    "import pickle\n",
    "import locale \n",
    "import datetime\n",
    "locale.setlocale(locale.LC_TIME, 'es_ES.utf8')\n"
   ]
  },
  {
   "cell_type": "code",
   "execution_count": 52,
   "metadata": {},
   "outputs": [],
   "source": [
    "from pandas.api.types import is_datetime64_any_dtype as is_datetime"
   ]
  },
  {
   "cell_type": "code",
   "execution_count": 54,
   "metadata": {},
   "outputs": [],
   "source": [
    "df = pd.read_excel(\"ensayo.xlsx\")"
   ]
  },
  {
   "cell_type": "code",
   "execution_count": 60,
   "metadata": {},
   "outputs": [],
   "source": [
    "\n"
   ]
  },
  {
   "cell_type": "code",
   "execution_count": 66,
   "metadata": {},
   "outputs": [
    {
     "output_type": "execute_result",
     "data": {
      "text/plain": [
       "Timestamp('2019-03-07 00:00:00')"
      ]
     },
     "metadata": {},
     "execution_count": 66
    }
   ],
   "source": [
    "fsiembra"
   ]
  },
  {
   "cell_type": "code",
   "execution_count": 65,
   "metadata": {},
   "outputs": [
    {
     "output_type": "execute_result",
     "data": {
      "text/plain": [
       "[Timestamp('2021-12-09 00:00:00'),\n",
       " Timestamp('2024-09-12 00:00:00'),\n",
       " Timestamp('2027-06-17 00:00:00')]"
      ]
     },
     "metadata": {},
     "execution_count": 65
    }
   ],
   "source": []
  },
  {
   "cell_type": "code",
   "execution_count": 61,
   "metadata": {},
   "outputs": [
    {
     "output_type": "execute_result",
     "data": {
      "text/plain": [
       "pandas._libs.tslibs.timestamps.Timestamp"
      ]
     },
     "metadata": {},
     "execution_count": 61
    }
   ],
   "source": [
    "type(fsiembra)"
   ]
  },
  {
   "cell_type": "code",
   "execution_count": null,
   "metadata": {},
   "outputs": [],
   "source": [
    "[fsiembra]"
   ]
  },
  {
   "cell_type": "code",
   "execution_count": 19,
   "metadata": {},
   "outputs": [],
   "source": [
    "columnas = [x for x in df.columns if x.startswith(\"abs\")]\n",
    "bloque_seleccionado = df.query(\"bloque==210719\")[columnas]\n"
   ]
  },
  {
   "cell_type": "code",
   "execution_count": 43,
   "metadata": {},
   "outputs": [],
   "source": [
    "def crear_df_trimestral_transpuesto (df,trimestre):\n",
    "    trim = str(trimestre)\n",
    "    columnas = [x for x in df.columns if \"q\"+trim in x]\n",
    "    df_trim = df[columnas]\n",
    "    df_trim.columns = [x[4:-3] for x in df_trim.columns]\n",
    "    df_trim= df_trim.transpose()\n",
    "    df_trim.columns=[\"q\"+trim]\n",
    "    return df_trim"
   ]
  },
  {
   "cell_type": "code",
   "execution_count": 47,
   "metadata": {},
   "outputs": [],
   "source": [
    "df_q1 = crear_df_trimestral_transpuesto(bloque_seleccionado,1)\n",
    "df_q2 = crear_df_trimestral_transpuesto(bloque_seleccionado,2)\n",
    "df_q3 = crear_df_trimestral_transpuesto(bloque_seleccionado,3)\n",
    "df_q4 = crear_df_trimestral_transpuesto(bloque_seleccionado,4)"
   ]
  },
  {
   "cell_type": "code",
   "execution_count": 50,
   "metadata": {},
   "outputs": [
    {
     "output_type": "execute_result",
     "data": {
      "text/plain": [
       "             q1  q2\n",
       "menos_de_10   0   0\n",
       "mas_de_20     1   2\n",
       "conteo        2   6"
      ],
      "text/html": "<div>\n<style scoped>\n    .dataframe tbody tr th:only-of-type {\n        vertical-align: middle;\n    }\n\n    .dataframe tbody tr th {\n        vertical-align: top;\n    }\n\n    .dataframe thead th {\n        text-align: right;\n    }\n</style>\n<table border=\"1\" class=\"dataframe\">\n  <thead>\n    <tr style=\"text-align: right;\">\n      <th></th>\n      <th>q1</th>\n      <th>q2</th>\n    </tr>\n  </thead>\n  <tbody>\n    <tr>\n      <th>menos_de_10</th>\n      <td>0</td>\n      <td>0</td>\n    </tr>\n    <tr>\n      <th>mas_de_20</th>\n      <td>1</td>\n      <td>2</td>\n    </tr>\n    <tr>\n      <th>conteo</th>\n      <td>2</td>\n      <td>6</td>\n    </tr>\n  </tbody>\n</table>\n</div>"
     },
     "metadata": {},
     "execution_count": 50
    }
   ],
   "source": [
    "df_q1.merge(df_q2,left_index=True,right_index=True)"
   ]
  },
  {
   "cell_type": "code",
   "execution_count": 35,
   "metadata": {},
   "outputs": [],
   "source": [
    "df_q1.transpose().columns=[\"q1\"]"
   ]
  },
  {
   "cell_type": "code",
   "execution_count": 30,
   "metadata": {},
   "outputs": [
    {
     "output_type": "execute_result",
     "data": {
      "text/plain": [
       "'menos_de_10'"
      ]
     },
     "metadata": {},
     "execution_count": 30
    }
   ],
   "source": [
    "df_q1.columns[0][4:-3]"
   ]
  },
  {
   "cell_type": "code",
   "execution_count": 13,
   "metadata": {},
   "outputs": [],
   "source": [
    "fill_value = (df[\"apldate\"]- df[\"finiciosiembra\"])/np.timedelta64(1, 'D')"
   ]
  },
  {
   "cell_type": "code",
   "execution_count": 15,
   "metadata": {},
   "outputs": [],
   "source": [
    "df[\"diff2\"] = df[\"diff\"]"
   ]
  },
  {
   "cell_type": "code",
   "execution_count": 19,
   "metadata": {},
   "outputs": [
    {
     "output_type": "execute_result",
     "data": {
      "text/plain": [
       "0     NaN\n",
       "1    14.0\n",
       "2    31.0\n",
       "3    11.0\n",
       "4    13.0\n",
       "Name: diff2, dtype: float64"
      ]
     },
     "metadata": {},
     "execution_count": 19
    }
   ],
   "source": [
    "df[\"diff2\"].head()"
   ]
  },
  {
   "cell_type": "code",
   "execution_count": 21,
   "metadata": {},
   "outputs": [],
   "source": [
    "df[\"diff\"]=df[\"diff\"].fillna(fill_value)"
   ]
  },
  {
   "cell_type": "code",
   "execution_count": 11,
   "metadata": {},
   "outputs": [],
   "source": [
    "#df[\"tooltip\"][0]"
   ]
  },
  {
   "cell_type": "code",
   "execution_count": 9,
   "metadata": {},
   "outputs": [],
   "source": [
    "df[\"tooltip\"] = df.apply(lambda row: f\"aplicaciones con más de 20 días de diferencia: {row['porc diff menos de 10 q1']} \\n aplicaciones con menos de 10 días de diferencia {row['porc diff más de 20 q3']} \",axis=1)"
   ]
  },
  {
   "cell_type": "code",
   "execution_count": 28,
   "metadata": {},
   "outputs": [],
   "source": [
    "tooltip_data=[\n",
    "        {\n",
    "            row[\"bloque\"]: {'value': str(row[\"q1\"]), 'type': 'markdown'}\n",
    "        } for row in df[[\"bloque\",\"q1\"]].to_dict('records')\n",
    "    ]"
   ]
  },
  {
   "cell_type": "code",
   "execution_count": 29,
   "metadata": {},
   "outputs": [
    {
     "output_type": "execute_result",
     "data": {
      "text/plain": [
       "[{223519: {'value': '0.63', 'type': 'markdown'}},\n",
       " {224819: {'value': '0.63', 'type': 'markdown'}},\n",
       " {225319: {'value': '0.63', 'type': 'markdown'}},\n",
       " {225419: {'value': '0.63', 'type': 'markdown'}},\n",
       " {225519: {'value': '0.63', 'type': 'markdown'}}]"
      ]
     },
     "metadata": {},
     "execution_count": 29
    }
   ],
   "source": [
    "tooltip_data"
   ]
  },
  {
   "cell_type": "code",
   "execution_count": 18,
   "metadata": {},
   "outputs": [
    {
     "output_type": "execute_result",
     "data": {
      "text/plain": [
       "[{'bloque': {'value': '223519', 'type': 'markdown'},\n",
       "  'q1': {'value': '0.63', 'type': 'markdown'}},\n",
       " {'bloque': {'value': '224819', 'type': 'markdown'},\n",
       "  'q1': {'value': '0.63', 'type': 'markdown'}},\n",
       " {'bloque': {'value': '225319', 'type': 'markdown'},\n",
       "  'q1': {'value': '0.63', 'type': 'markdown'}},\n",
       " {'bloque': {'value': '225419', 'type': 'markdown'},\n",
       "  'q1': {'value': '0.63', 'type': 'markdown'}},\n",
       " {'bloque': {'value': '225519', 'type': 'markdown'},\n",
       "  'q1': {'value': '0.63', 'type': 'markdown'}}]"
      ]
     },
     "metadata": {},
     "execution_count": 18
    }
   ],
   "source": [
    "tooltip_data"
   ]
  },
  {
   "cell_type": "code",
   "execution_count": 29,
   "metadata": {},
   "outputs": [
    {
     "output_type": "execute_result",
     "data": {
      "text/plain": [
       "             num_apls_q1\n",
       "blocknumber             \n",
       "210719                 2\n",
       "210819                 2\n",
       "211219                 3\n",
       "211419                 3"
      ],
      "text/html": "<div>\n<style scoped>\n    .dataframe tbody tr th:only-of-type {\n        vertical-align: middle;\n    }\n\n    .dataframe tbody tr th {\n        vertical-align: top;\n    }\n\n    .dataframe thead th {\n        text-align: right;\n    }\n</style>\n<table border=\"1\" class=\"dataframe\">\n  <thead>\n    <tr style=\"text-align: right;\">\n      <th></th>\n      <th>num_apls_q1</th>\n    </tr>\n    <tr>\n      <th>blocknumber</th>\n      <th></th>\n    </tr>\n  </thead>\n  <tbody>\n    <tr>\n      <th>210719</th>\n      <td>2</td>\n    </tr>\n    <tr>\n      <th>210819</th>\n      <td>2</td>\n    </tr>\n    <tr>\n      <th>211219</th>\n      <td>3</td>\n    </tr>\n    <tr>\n      <th>211419</th>\n      <td>3</td>\n    </tr>\n  </tbody>\n</table>\n</div>"
     },
     "metadata": {},
     "execution_count": 29
    }
   ],
   "source": [
    "df[(df['apldate'] < df['finiciosiembra'] + datetime.timedelta(weeks=12)) ].groupby(\"blocknumber\")[\"apldate\"].agg(num_apls_q1=\"count\").reset_index()"
   ]
  },
  {
   "cell_type": "code",
   "execution_count": 31,
   "metadata": {},
   "outputs": [
    {
     "output_type": "execute_result",
     "data": {
      "text/plain": [
       "             num_apls_q1\n",
       "blocknumber             \n",
       "210719                 5\n",
       "210819                 5\n",
       "211219                 5\n",
       "211419                 5"
      ],
      "text/html": "<div>\n<style scoped>\n    .dataframe tbody tr th:only-of-type {\n        vertical-align: middle;\n    }\n\n    .dataframe tbody tr th {\n        vertical-align: top;\n    }\n\n    .dataframe thead th {\n        text-align: right;\n    }\n</style>\n<table border=\"1\" class=\"dataframe\">\n  <thead>\n    <tr style=\"text-align: right;\">\n      <th></th>\n      <th>num_apls_q1</th>\n    </tr>\n    <tr>\n      <th>blocknumber</th>\n      <th></th>\n    </tr>\n  </thead>\n  <tbody>\n    <tr>\n      <th>210719</th>\n      <td>5</td>\n    </tr>\n    <tr>\n      <th>210819</th>\n      <td>5</td>\n    </tr>\n    <tr>\n      <th>211219</th>\n      <td>5</td>\n    </tr>\n    <tr>\n      <th>211419</th>\n      <td>5</td>\n    </tr>\n  </tbody>\n</table>\n</div>"
     },
     "metadata": {},
     "execution_count": 31
    }
   ],
   "source": [
    "df[(df['apldate'] > df['finiciosiembra'] + datetime.timedelta(weeks=12)) & (df['apldate'] < df['finiciosiembra'] + datetime.timedelta(weeks=24)) ].groupby(\"blocknumber\")[\"apldate\"].agg(num_apls_q2=\"count\").reset_index()"
   ]
  },
  {
   "cell_type": "code",
   "execution_count": 32,
   "metadata": {},
   "outputs": [
    {
     "output_type": "execute_result",
     "data": {
      "text/plain": [
       "             num_apls_q3\n",
       "blocknumber             \n",
       "210719                 4\n",
       "210819                 4\n",
       "211219                 4\n",
       "211419                 4"
      ],
      "text/html": "<div>\n<style scoped>\n    .dataframe tbody tr th:only-of-type {\n        vertical-align: middle;\n    }\n\n    .dataframe tbody tr th {\n        vertical-align: top;\n    }\n\n    .dataframe thead th {\n        text-align: right;\n    }\n</style>\n<table border=\"1\" class=\"dataframe\">\n  <thead>\n    <tr style=\"text-align: right;\">\n      <th></th>\n      <th>num_apls_q3</th>\n    </tr>\n    <tr>\n      <th>blocknumber</th>\n      <th></th>\n    </tr>\n  </thead>\n  <tbody>\n    <tr>\n      <th>210719</th>\n      <td>4</td>\n    </tr>\n    <tr>\n      <th>210819</th>\n      <td>4</td>\n    </tr>\n    <tr>\n      <th>211219</th>\n      <td>4</td>\n    </tr>\n    <tr>\n      <th>211419</th>\n      <td>4</td>\n    </tr>\n  </tbody>\n</table>\n</div>"
     },
     "metadata": {},
     "execution_count": 32
    }
   ],
   "source": [
    "df[(df['apldate'] > df['finiciosiembra'] + datetime.timedelta(weeks=24)) & (df['apldate'] < df['finiciosiembra'] + datetime.timedelta(weeks=36)) ].groupby(\"blocknumber\")[\"apldate\"].agg(num_apls_q3=\"count\").reset_index()"
   ]
  },
  {
   "cell_type": "code",
   "execution_count": 34,
   "metadata": {},
   "outputs": [
    {
     "output_type": "execute_result",
     "data": {
      "text/plain": [
       "   blocknumber  num_apls_q3\n",
       "0       210719            3\n",
       "1       210819            3\n",
       "2       211219            3\n",
       "3       211419            3"
      ],
      "text/html": "<div>\n<style scoped>\n    .dataframe tbody tr th:only-of-type {\n        vertical-align: middle;\n    }\n\n    .dataframe tbody tr th {\n        vertical-align: top;\n    }\n\n    .dataframe thead th {\n        text-align: right;\n    }\n</style>\n<table border=\"1\" class=\"dataframe\">\n  <thead>\n    <tr style=\"text-align: right;\">\n      <th></th>\n      <th>blocknumber</th>\n      <th>num_apls_q3</th>\n    </tr>\n  </thead>\n  <tbody>\n    <tr>\n      <th>0</th>\n      <td>210719</td>\n      <td>3</td>\n    </tr>\n    <tr>\n      <th>1</th>\n      <td>210819</td>\n      <td>3</td>\n    </tr>\n    <tr>\n      <th>2</th>\n      <td>211219</td>\n      <td>3</td>\n    </tr>\n    <tr>\n      <th>3</th>\n      <td>211419</td>\n      <td>3</td>\n    </tr>\n  </tbody>\n</table>\n</div>"
     },
     "metadata": {},
     "execution_count": 34
    }
   ],
   "source": [
    "df[(df['apldate'] > df['finiciosiembra'] + datetime.timedelta(weeks=36))].groupby(\"blocknumber\")[\"apldate\"].agg(num_apls_q4=\"count\").reset_index()"
   ]
  },
  {
   "cell_type": "code",
   "execution_count": 8,
   "metadata": {},
   "outputs": [
    {
     "output_type": "execute_result",
     "data": {
      "text/plain": [
       "    Unnamed: 0  codigo  formula    apldate  blocknumber  plantcant  \\\n",
       "0            1    3621      003 2019-04-09       210719      32197   \n",
       "1            2    3668      004 2019-04-23       210719      32197   \n",
       "2            5    3773      007 2019-05-24       210719      32197   \n",
       "3            7    3791      008 2019-06-04       210719      32197   \n",
       "4            8    3839      011 2019-06-17       210719      32197   \n",
       "5           12    3942      012 2019-07-15       210719      32197   \n",
       "6           15    3998      014 2019-07-29       210719      32197   \n",
       "7           17    4116      015 2019-08-15       210719      32197   \n",
       "8           18    4104      017 2019-08-30       210719      32197   \n",
       "9           20    4159      018 2019-09-10       210719      32197   \n",
       "10          21    4143      018 2019-09-11       210719      32197   \n",
       "11          23    4347      022 2019-10-17       210719      32197   \n",
       "12          27    4445      025 2019-11-22       210719      32197   \n",
       "13          28    4456      027 2019-11-28       210719      32197   \n",
       "14          31    4605  031.V10 2019-12-24       210719      32197   \n",
       "15          34    3621      003 2019-04-09       210819      20807   \n",
       "16          35    3668      004 2019-04-23       210819      20807   \n",
       "17          38    3773      007 2019-05-24       210819      20807   \n",
       "18          40    3791      008 2019-06-04       210819      20807   \n",
       "19          41    3839      011 2019-06-17       210819      20807   \n",
       "20          45    3942      012 2019-07-15       210819      20807   \n",
       "21          48    3998      014 2019-07-29       210819      20807   \n",
       "22          50    4116      015 2019-08-15       210819      20807   \n",
       "23          51    4104      017 2019-08-30       210819      20807   \n",
       "24          53    4159      018 2019-09-10       210819      20807   \n",
       "25          54    4143      018 2019-09-11       210819      20807   \n",
       "26          56    4347      022 2019-10-17       210819      20807   \n",
       "27          60    4445      025 2019-11-22       210819      20807   \n",
       "28          61    4456      027 2019-11-28       210819      20807   \n",
       "29          64    4605  031.V10 2019-12-24       210819      20807   \n",
       "30          67    3621      003 2019-04-09       211219      33514   \n",
       "31          68    3668      004 2019-04-23       211219      33514   \n",
       "32          71    3773      007 2019-05-24       211219      33514   \n",
       "33          73    3791      008 2019-06-04       211219      33514   \n",
       "34          74    3839      011 2019-06-17       211219      33514   \n",
       "35          78    3942      012 2019-07-15       211219      33514   \n",
       "36          81    3998      014 2019-07-29       211219      33514   \n",
       "37          83    4116      015 2019-08-15       211219      33514   \n",
       "38          84    4104      017 2019-08-30       211219      33514   \n",
       "39          86    4159      018 2019-09-10       211219      33514   \n",
       "40          87    4143      018 2019-09-11       211219      33514   \n",
       "41          89    4347      022 2019-10-17       211219      33514   \n",
       "42          93    4445      025 2019-11-22       211219      33514   \n",
       "43          94    4456      027 2019-11-28       211219      33514   \n",
       "44          97    4605  031.V10 2019-12-24       211219      33514   \n",
       "45         100    3621      003 2019-04-09       211419      13809   \n",
       "46         101    3668      004 2019-04-23       211419      13809   \n",
       "47         104    3773      007 2019-05-24       211419      13809   \n",
       "48         106    3791      008 2019-06-04       211419      13809   \n",
       "49         107    3839      011 2019-06-17       211419      13809   \n",
       "50         111    3942      012 2019-07-15       211419      13809   \n",
       "51         114    3998      014 2019-07-29       211419      13809   \n",
       "52         116    4116      015 2019-08-15       211419      13809   \n",
       "53         117    4104      017 2019-08-30       211419      13809   \n",
       "54         119    4159      018 2019-09-10       211419      13809   \n",
       "55         120    4143      018 2019-09-11       211419      13809   \n",
       "56         122    4347      022 2019-10-17       211419      13809   \n",
       "57         126    4445      025 2019-11-22       211419      13809   \n",
       "58         127    4456      027 2019-11-28       211419      13809   \n",
       "59         130    4605  031.V10 2019-12-24       211419      13809   \n",
       "\n",
       "   finiciosiembra finduccion  descripcion  lote   area  gruposiembra  \\\n",
       "0      2019-02-28 2020-03-27       210719    21   5446           256   \n",
       "1      2019-02-28 2020-03-27       210719    21   5446           256   \n",
       "2      2019-02-28 2020-03-27       210719    21   5446           256   \n",
       "3      2019-02-28 2020-03-27       210719    21   5446           256   \n",
       "4      2019-02-28 2020-03-27       210719    21   5446           256   \n",
       "5      2019-02-28 2020-03-27       210719    21   5446           256   \n",
       "6      2019-02-28 2020-03-27       210719    21   5446           256   \n",
       "7      2019-02-28 2020-03-27       210719    21   5446           256   \n",
       "8      2019-02-28 2020-03-27       210719    21   5446           256   \n",
       "9      2019-02-28 2020-03-27       210719    21   5446           256   \n",
       "10     2019-02-28 2020-03-27       210719    21   5446           256   \n",
       "11     2019-02-28 2020-03-27       210719    21   5446           256   \n",
       "12     2019-02-28 2020-03-27       210719    21   5446           256   \n",
       "13     2019-02-28 2020-03-27       210719    21   5446           256   \n",
       "14     2019-02-28 2020-03-27       210719    21   5446           256   \n",
       "15     2019-03-01 2020-03-27       210819    21  30000           256   \n",
       "16     2019-03-01 2020-03-27       210819    21  30000           256   \n",
       "17     2019-03-01 2020-03-27       210819    21  30000           256   \n",
       "18     2019-03-01 2020-03-27       210819    21  30000           256   \n",
       "19     2019-03-01 2020-03-27       210819    21  30000           256   \n",
       "20     2019-03-01 2020-03-27       210819    21  30000           256   \n",
       "21     2019-03-01 2020-03-27       210819    21  30000           256   \n",
       "22     2019-03-01 2020-03-27       210819    21  30000           256   \n",
       "23     2019-03-01 2020-03-27       210819    21  30000           256   \n",
       "24     2019-03-01 2020-03-27       210819    21  30000           256   \n",
       "25     2019-03-01 2020-03-27       210819    21  30000           256   \n",
       "26     2019-03-01 2020-03-27       210819    21  30000           256   \n",
       "27     2019-03-01 2020-03-27       210819    21  30000           256   \n",
       "28     2019-03-01 2020-03-27       210819    21  30000           256   \n",
       "29     2019-03-01 2020-03-27       210819    21  30000           256   \n",
       "30     2019-03-07 2020-03-27       211219    21   4800           256   \n",
       "31     2019-03-07 2020-03-27       211219    21   4800           256   \n",
       "32     2019-03-07 2020-03-27       211219    21   4800           256   \n",
       "33     2019-03-07 2020-03-27       211219    21   4800           256   \n",
       "34     2019-03-07 2020-03-27       211219    21   4800           256   \n",
       "35     2019-03-07 2020-03-27       211219    21   4800           256   \n",
       "36     2019-03-07 2020-03-27       211219    21   4800           256   \n",
       "37     2019-03-07 2020-03-27       211219    21   4800           256   \n",
       "38     2019-03-07 2020-03-27       211219    21   4800           256   \n",
       "39     2019-03-07 2020-03-27       211219    21   4800           256   \n",
       "40     2019-03-07 2020-03-27       211219    21   4800           256   \n",
       "41     2019-03-07 2020-03-27       211219    21   4800           256   \n",
       "42     2019-03-07 2020-03-27       211219    21   4800           256   \n",
       "43     2019-03-07 2020-03-27       211219    21   4800           256   \n",
       "44     2019-03-07 2020-03-27       211219    21   4800           256   \n",
       "45     2019-03-06 2020-03-27       211419    21   4928           256   \n",
       "46     2019-03-06 2020-03-27       211419    21   4928           256   \n",
       "47     2019-03-06 2020-03-27       211419    21   4928           256   \n",
       "48     2019-03-06 2020-03-27       211419    21   4928           256   \n",
       "49     2019-03-06 2020-03-27       211419    21   4928           256   \n",
       "50     2019-03-06 2020-03-27       211419    21   4928           256   \n",
       "51     2019-03-06 2020-03-27       211419    21   4928           256   \n",
       "52     2019-03-06 2020-03-27       211419    21   4928           256   \n",
       "53     2019-03-06 2020-03-27       211419    21   4928           256   \n",
       "54     2019-03-06 2020-03-27       211419    21   4928           256   \n",
       "55     2019-03-06 2020-03-27       211419    21   4928           256   \n",
       "56     2019-03-06 2020-03-27       211419    21   4928           256   \n",
       "57     2019-03-06 2020-03-27       211419    21   4928           256   \n",
       "58     2019-03-06 2020-03-27       211419    21   4928           256   \n",
       "59     2019-03-06 2020-03-27       211419    21   4928           256   \n",
       "\n",
       "   descripcion_formula     categoria  diff  \n",
       "0             FOLIAR 1  Fertilizante   NaN  \n",
       "1             FOLIAR 2  Fertilizante  14.0  \n",
       "2             FOLIAR 3  Fertilizante  31.0  \n",
       "3             FOLIAR 4  Fertilizante  11.0  \n",
       "4             FOLIAR 5  Fertilizante  13.0  \n",
       "5             FOLIAR 6  Fertilizante  28.0  \n",
       "6             FOLIAR 7  Fertilizante  14.0  \n",
       "7             FOLIAR 8  Fertilizante  17.0  \n",
       "8             FOLIAR 9  Fertilizante  15.0  \n",
       "9            FOLIAR 10  Fertilizante  11.0  \n",
       "10           FOLIAR 10  Fertilizante   1.0  \n",
       "11           FOLIAR 12  Fertilizante  36.0  \n",
       "12           FOLIAR 14  Fertilizante  36.0  \n",
       "13           FOLIAR 15  Fertilizante   6.0  \n",
       "14       FOLIAR 16 V10  Fertilizante  26.0  \n",
       "15            FOLIAR 1  Fertilizante   NaN  \n",
       "16            FOLIAR 2  Fertilizante  14.0  \n",
       "17            FOLIAR 3  Fertilizante  31.0  \n",
       "18            FOLIAR 4  Fertilizante  11.0  \n",
       "19            FOLIAR 5  Fertilizante  13.0  \n",
       "20            FOLIAR 6  Fertilizante  28.0  \n",
       "21            FOLIAR 7  Fertilizante  14.0  \n",
       "22            FOLIAR 8  Fertilizante  17.0  \n",
       "23            FOLIAR 9  Fertilizante  15.0  \n",
       "24           FOLIAR 10  Fertilizante  11.0  \n",
       "25           FOLIAR 10  Fertilizante   1.0  \n",
       "26           FOLIAR 12  Fertilizante  36.0  \n",
       "27           FOLIAR 14  Fertilizante  36.0  \n",
       "28           FOLIAR 15  Fertilizante   6.0  \n",
       "29       FOLIAR 16 V10  Fertilizante  26.0  \n",
       "30            FOLIAR 1  Fertilizante   NaN  \n",
       "31            FOLIAR 2  Fertilizante  14.0  \n",
       "32            FOLIAR 3  Fertilizante  31.0  \n",
       "33            FOLIAR 4  Fertilizante  11.0  \n",
       "34            FOLIAR 5  Fertilizante  13.0  \n",
       "35            FOLIAR 6  Fertilizante  28.0  \n",
       "36            FOLIAR 7  Fertilizante  14.0  \n",
       "37            FOLIAR 8  Fertilizante  17.0  \n",
       "38            FOLIAR 9  Fertilizante  15.0  \n",
       "39           FOLIAR 10  Fertilizante  11.0  \n",
       "40           FOLIAR 10  Fertilizante   1.0  \n",
       "41           FOLIAR 12  Fertilizante  36.0  \n",
       "42           FOLIAR 14  Fertilizante  36.0  \n",
       "43           FOLIAR 15  Fertilizante   6.0  \n",
       "44       FOLIAR 16 V10  Fertilizante  26.0  \n",
       "45            FOLIAR 1  Fertilizante   NaN  \n",
       "46            FOLIAR 2  Fertilizante  14.0  \n",
       "47            FOLIAR 3  Fertilizante  31.0  \n",
       "48            FOLIAR 4  Fertilizante  11.0  \n",
       "49            FOLIAR 5  Fertilizante  13.0  \n",
       "50            FOLIAR 6  Fertilizante  28.0  \n",
       "51            FOLIAR 7  Fertilizante  14.0  \n",
       "52            FOLIAR 8  Fertilizante  17.0  \n",
       "53            FOLIAR 9  Fertilizante  15.0  \n",
       "54           FOLIAR 10  Fertilizante  11.0  \n",
       "55           FOLIAR 10  Fertilizante   1.0  \n",
       "56           FOLIAR 12  Fertilizante  36.0  \n",
       "57           FOLIAR 14  Fertilizante  36.0  \n",
       "58           FOLIAR 15  Fertilizante   6.0  \n",
       "59       FOLIAR 16 V10  Fertilizante  26.0  "
      ],
      "text/html": "<div>\n<style scoped>\n    .dataframe tbody tr th:only-of-type {\n        vertical-align: middle;\n    }\n\n    .dataframe tbody tr th {\n        vertical-align: top;\n    }\n\n    .dataframe thead th {\n        text-align: right;\n    }\n</style>\n<table border=\"1\" class=\"dataframe\">\n  <thead>\n    <tr style=\"text-align: right;\">\n      <th></th>\n      <th>Unnamed: 0</th>\n      <th>codigo</th>\n      <th>formula</th>\n      <th>apldate</th>\n      <th>blocknumber</th>\n      <th>plantcant</th>\n      <th>finiciosiembra</th>\n      <th>finduccion</th>\n      <th>descripcion</th>\n      <th>lote</th>\n      <th>area</th>\n      <th>gruposiembra</th>\n      <th>descripcion_formula</th>\n      <th>categoria</th>\n      <th>diff</th>\n    </tr>\n  </thead>\n  <tbody>\n    <tr>\n      <th>0</th>\n      <td>1</td>\n      <td>3621</td>\n      <td>003</td>\n      <td>2019-04-09</td>\n      <td>210719</td>\n      <td>32197</td>\n      <td>2019-02-28</td>\n      <td>2020-03-27</td>\n      <td>210719</td>\n      <td>21</td>\n      <td>5446</td>\n      <td>256</td>\n      <td>FOLIAR 1</td>\n      <td>Fertilizante</td>\n      <td>NaN</td>\n    </tr>\n    <tr>\n      <th>1</th>\n      <td>2</td>\n      <td>3668</td>\n      <td>004</td>\n      <td>2019-04-23</td>\n      <td>210719</td>\n      <td>32197</td>\n      <td>2019-02-28</td>\n      <td>2020-03-27</td>\n      <td>210719</td>\n      <td>21</td>\n      <td>5446</td>\n      <td>256</td>\n      <td>FOLIAR 2</td>\n      <td>Fertilizante</td>\n      <td>14.0</td>\n    </tr>\n    <tr>\n      <th>2</th>\n      <td>5</td>\n      <td>3773</td>\n      <td>007</td>\n      <td>2019-05-24</td>\n      <td>210719</td>\n      <td>32197</td>\n      <td>2019-02-28</td>\n      <td>2020-03-27</td>\n      <td>210719</td>\n      <td>21</td>\n      <td>5446</td>\n      <td>256</td>\n      <td>FOLIAR 3</td>\n      <td>Fertilizante</td>\n      <td>31.0</td>\n    </tr>\n    <tr>\n      <th>3</th>\n      <td>7</td>\n      <td>3791</td>\n      <td>008</td>\n      <td>2019-06-04</td>\n      <td>210719</td>\n      <td>32197</td>\n      <td>2019-02-28</td>\n      <td>2020-03-27</td>\n      <td>210719</td>\n      <td>21</td>\n      <td>5446</td>\n      <td>256</td>\n      <td>FOLIAR 4</td>\n      <td>Fertilizante</td>\n      <td>11.0</td>\n    </tr>\n    <tr>\n      <th>4</th>\n      <td>8</td>\n      <td>3839</td>\n      <td>011</td>\n      <td>2019-06-17</td>\n      <td>210719</td>\n      <td>32197</td>\n      <td>2019-02-28</td>\n      <td>2020-03-27</td>\n      <td>210719</td>\n      <td>21</td>\n      <td>5446</td>\n      <td>256</td>\n      <td>FOLIAR 5</td>\n      <td>Fertilizante</td>\n      <td>13.0</td>\n    </tr>\n    <tr>\n      <th>5</th>\n      <td>12</td>\n      <td>3942</td>\n      <td>012</td>\n      <td>2019-07-15</td>\n      <td>210719</td>\n      <td>32197</td>\n      <td>2019-02-28</td>\n      <td>2020-03-27</td>\n      <td>210719</td>\n      <td>21</td>\n      <td>5446</td>\n      <td>256</td>\n      <td>FOLIAR 6</td>\n      <td>Fertilizante</td>\n      <td>28.0</td>\n    </tr>\n    <tr>\n      <th>6</th>\n      <td>15</td>\n      <td>3998</td>\n      <td>014</td>\n      <td>2019-07-29</td>\n      <td>210719</td>\n      <td>32197</td>\n      <td>2019-02-28</td>\n      <td>2020-03-27</td>\n      <td>210719</td>\n      <td>21</td>\n      <td>5446</td>\n      <td>256</td>\n      <td>FOLIAR 7</td>\n      <td>Fertilizante</td>\n      <td>14.0</td>\n    </tr>\n    <tr>\n      <th>7</th>\n      <td>17</td>\n      <td>4116</td>\n      <td>015</td>\n      <td>2019-08-15</td>\n      <td>210719</td>\n      <td>32197</td>\n      <td>2019-02-28</td>\n      <td>2020-03-27</td>\n      <td>210719</td>\n      <td>21</td>\n      <td>5446</td>\n      <td>256</td>\n      <td>FOLIAR 8</td>\n      <td>Fertilizante</td>\n      <td>17.0</td>\n    </tr>\n    <tr>\n      <th>8</th>\n      <td>18</td>\n      <td>4104</td>\n      <td>017</td>\n      <td>2019-08-30</td>\n      <td>210719</td>\n      <td>32197</td>\n      <td>2019-02-28</td>\n      <td>2020-03-27</td>\n      <td>210719</td>\n      <td>21</td>\n      <td>5446</td>\n      <td>256</td>\n      <td>FOLIAR 9</td>\n      <td>Fertilizante</td>\n      <td>15.0</td>\n    </tr>\n    <tr>\n      <th>9</th>\n      <td>20</td>\n      <td>4159</td>\n      <td>018</td>\n      <td>2019-09-10</td>\n      <td>210719</td>\n      <td>32197</td>\n      <td>2019-02-28</td>\n      <td>2020-03-27</td>\n      <td>210719</td>\n      <td>21</td>\n      <td>5446</td>\n      <td>256</td>\n      <td>FOLIAR 10</td>\n      <td>Fertilizante</td>\n      <td>11.0</td>\n    </tr>\n    <tr>\n      <th>10</th>\n      <td>21</td>\n      <td>4143</td>\n      <td>018</td>\n      <td>2019-09-11</td>\n      <td>210719</td>\n      <td>32197</td>\n      <td>2019-02-28</td>\n      <td>2020-03-27</td>\n      <td>210719</td>\n      <td>21</td>\n      <td>5446</td>\n      <td>256</td>\n      <td>FOLIAR 10</td>\n      <td>Fertilizante</td>\n      <td>1.0</td>\n    </tr>\n    <tr>\n      <th>11</th>\n      <td>23</td>\n      <td>4347</td>\n      <td>022</td>\n      <td>2019-10-17</td>\n      <td>210719</td>\n      <td>32197</td>\n      <td>2019-02-28</td>\n      <td>2020-03-27</td>\n      <td>210719</td>\n      <td>21</td>\n      <td>5446</td>\n      <td>256</td>\n      <td>FOLIAR 12</td>\n      <td>Fertilizante</td>\n      <td>36.0</td>\n    </tr>\n    <tr>\n      <th>12</th>\n      <td>27</td>\n      <td>4445</td>\n      <td>025</td>\n      <td>2019-11-22</td>\n      <td>210719</td>\n      <td>32197</td>\n      <td>2019-02-28</td>\n      <td>2020-03-27</td>\n      <td>210719</td>\n      <td>21</td>\n      <td>5446</td>\n      <td>256</td>\n      <td>FOLIAR 14</td>\n      <td>Fertilizante</td>\n      <td>36.0</td>\n    </tr>\n    <tr>\n      <th>13</th>\n      <td>28</td>\n      <td>4456</td>\n      <td>027</td>\n      <td>2019-11-28</td>\n      <td>210719</td>\n      <td>32197</td>\n      <td>2019-02-28</td>\n      <td>2020-03-27</td>\n      <td>210719</td>\n      <td>21</td>\n      <td>5446</td>\n      <td>256</td>\n      <td>FOLIAR 15</td>\n      <td>Fertilizante</td>\n      <td>6.0</td>\n    </tr>\n    <tr>\n      <th>14</th>\n      <td>31</td>\n      <td>4605</td>\n      <td>031.V10</td>\n      <td>2019-12-24</td>\n      <td>210719</td>\n      <td>32197</td>\n      <td>2019-02-28</td>\n      <td>2020-03-27</td>\n      <td>210719</td>\n      <td>21</td>\n      <td>5446</td>\n      <td>256</td>\n      <td>FOLIAR 16 V10</td>\n      <td>Fertilizante</td>\n      <td>26.0</td>\n    </tr>\n    <tr>\n      <th>15</th>\n      <td>34</td>\n      <td>3621</td>\n      <td>003</td>\n      <td>2019-04-09</td>\n      <td>210819</td>\n      <td>20807</td>\n      <td>2019-03-01</td>\n      <td>2020-03-27</td>\n      <td>210819</td>\n      <td>21</td>\n      <td>30000</td>\n      <td>256</td>\n      <td>FOLIAR 1</td>\n      <td>Fertilizante</td>\n      <td>NaN</td>\n    </tr>\n    <tr>\n      <th>16</th>\n      <td>35</td>\n      <td>3668</td>\n      <td>004</td>\n      <td>2019-04-23</td>\n      <td>210819</td>\n      <td>20807</td>\n      <td>2019-03-01</td>\n      <td>2020-03-27</td>\n      <td>210819</td>\n      <td>21</td>\n      <td>30000</td>\n      <td>256</td>\n      <td>FOLIAR 2</td>\n      <td>Fertilizante</td>\n      <td>14.0</td>\n    </tr>\n    <tr>\n      <th>17</th>\n      <td>38</td>\n      <td>3773</td>\n      <td>007</td>\n      <td>2019-05-24</td>\n      <td>210819</td>\n      <td>20807</td>\n      <td>2019-03-01</td>\n      <td>2020-03-27</td>\n      <td>210819</td>\n      <td>21</td>\n      <td>30000</td>\n      <td>256</td>\n      <td>FOLIAR 3</td>\n      <td>Fertilizante</td>\n      <td>31.0</td>\n    </tr>\n    <tr>\n      <th>18</th>\n      <td>40</td>\n      <td>3791</td>\n      <td>008</td>\n      <td>2019-06-04</td>\n      <td>210819</td>\n      <td>20807</td>\n      <td>2019-03-01</td>\n      <td>2020-03-27</td>\n      <td>210819</td>\n      <td>21</td>\n      <td>30000</td>\n      <td>256</td>\n      <td>FOLIAR 4</td>\n      <td>Fertilizante</td>\n      <td>11.0</td>\n    </tr>\n    <tr>\n      <th>19</th>\n      <td>41</td>\n      <td>3839</td>\n      <td>011</td>\n      <td>2019-06-17</td>\n      <td>210819</td>\n      <td>20807</td>\n      <td>2019-03-01</td>\n      <td>2020-03-27</td>\n      <td>210819</td>\n      <td>21</td>\n      <td>30000</td>\n      <td>256</td>\n      <td>FOLIAR 5</td>\n      <td>Fertilizante</td>\n      <td>13.0</td>\n    </tr>\n    <tr>\n      <th>20</th>\n      <td>45</td>\n      <td>3942</td>\n      <td>012</td>\n      <td>2019-07-15</td>\n      <td>210819</td>\n      <td>20807</td>\n      <td>2019-03-01</td>\n      <td>2020-03-27</td>\n      <td>210819</td>\n      <td>21</td>\n      <td>30000</td>\n      <td>256</td>\n      <td>FOLIAR 6</td>\n      <td>Fertilizante</td>\n      <td>28.0</td>\n    </tr>\n    <tr>\n      <th>21</th>\n      <td>48</td>\n      <td>3998</td>\n      <td>014</td>\n      <td>2019-07-29</td>\n      <td>210819</td>\n      <td>20807</td>\n      <td>2019-03-01</td>\n      <td>2020-03-27</td>\n      <td>210819</td>\n      <td>21</td>\n      <td>30000</td>\n      <td>256</td>\n      <td>FOLIAR 7</td>\n      <td>Fertilizante</td>\n      <td>14.0</td>\n    </tr>\n    <tr>\n      <th>22</th>\n      <td>50</td>\n      <td>4116</td>\n      <td>015</td>\n      <td>2019-08-15</td>\n      <td>210819</td>\n      <td>20807</td>\n      <td>2019-03-01</td>\n      <td>2020-03-27</td>\n      <td>210819</td>\n      <td>21</td>\n      <td>30000</td>\n      <td>256</td>\n      <td>FOLIAR 8</td>\n      <td>Fertilizante</td>\n      <td>17.0</td>\n    </tr>\n    <tr>\n      <th>23</th>\n      <td>51</td>\n      <td>4104</td>\n      <td>017</td>\n      <td>2019-08-30</td>\n      <td>210819</td>\n      <td>20807</td>\n      <td>2019-03-01</td>\n      <td>2020-03-27</td>\n      <td>210819</td>\n      <td>21</td>\n      <td>30000</td>\n      <td>256</td>\n      <td>FOLIAR 9</td>\n      <td>Fertilizante</td>\n      <td>15.0</td>\n    </tr>\n    <tr>\n      <th>24</th>\n      <td>53</td>\n      <td>4159</td>\n      <td>018</td>\n      <td>2019-09-10</td>\n      <td>210819</td>\n      <td>20807</td>\n      <td>2019-03-01</td>\n      <td>2020-03-27</td>\n      <td>210819</td>\n      <td>21</td>\n      <td>30000</td>\n      <td>256</td>\n      <td>FOLIAR 10</td>\n      <td>Fertilizante</td>\n      <td>11.0</td>\n    </tr>\n    <tr>\n      <th>25</th>\n      <td>54</td>\n      <td>4143</td>\n      <td>018</td>\n      <td>2019-09-11</td>\n      <td>210819</td>\n      <td>20807</td>\n      <td>2019-03-01</td>\n      <td>2020-03-27</td>\n      <td>210819</td>\n      <td>21</td>\n      <td>30000</td>\n      <td>256</td>\n      <td>FOLIAR 10</td>\n      <td>Fertilizante</td>\n      <td>1.0</td>\n    </tr>\n    <tr>\n      <th>26</th>\n      <td>56</td>\n      <td>4347</td>\n      <td>022</td>\n      <td>2019-10-17</td>\n      <td>210819</td>\n      <td>20807</td>\n      <td>2019-03-01</td>\n      <td>2020-03-27</td>\n      <td>210819</td>\n      <td>21</td>\n      <td>30000</td>\n      <td>256</td>\n      <td>FOLIAR 12</td>\n      <td>Fertilizante</td>\n      <td>36.0</td>\n    </tr>\n    <tr>\n      <th>27</th>\n      <td>60</td>\n      <td>4445</td>\n      <td>025</td>\n      <td>2019-11-22</td>\n      <td>210819</td>\n      <td>20807</td>\n      <td>2019-03-01</td>\n      <td>2020-03-27</td>\n      <td>210819</td>\n      <td>21</td>\n      <td>30000</td>\n      <td>256</td>\n      <td>FOLIAR 14</td>\n      <td>Fertilizante</td>\n      <td>36.0</td>\n    </tr>\n    <tr>\n      <th>28</th>\n      <td>61</td>\n      <td>4456</td>\n      <td>027</td>\n      <td>2019-11-28</td>\n      <td>210819</td>\n      <td>20807</td>\n      <td>2019-03-01</td>\n      <td>2020-03-27</td>\n      <td>210819</td>\n      <td>21</td>\n      <td>30000</td>\n      <td>256</td>\n      <td>FOLIAR 15</td>\n      <td>Fertilizante</td>\n      <td>6.0</td>\n    </tr>\n    <tr>\n      <th>29</th>\n      <td>64</td>\n      <td>4605</td>\n      <td>031.V10</td>\n      <td>2019-12-24</td>\n      <td>210819</td>\n      <td>20807</td>\n      <td>2019-03-01</td>\n      <td>2020-03-27</td>\n      <td>210819</td>\n      <td>21</td>\n      <td>30000</td>\n      <td>256</td>\n      <td>FOLIAR 16 V10</td>\n      <td>Fertilizante</td>\n      <td>26.0</td>\n    </tr>\n    <tr>\n      <th>30</th>\n      <td>67</td>\n      <td>3621</td>\n      <td>003</td>\n      <td>2019-04-09</td>\n      <td>211219</td>\n      <td>33514</td>\n      <td>2019-03-07</td>\n      <td>2020-03-27</td>\n      <td>211219</td>\n      <td>21</td>\n      <td>4800</td>\n      <td>256</td>\n      <td>FOLIAR 1</td>\n      <td>Fertilizante</td>\n      <td>NaN</td>\n    </tr>\n    <tr>\n      <th>31</th>\n      <td>68</td>\n      <td>3668</td>\n      <td>004</td>\n      <td>2019-04-23</td>\n      <td>211219</td>\n      <td>33514</td>\n      <td>2019-03-07</td>\n      <td>2020-03-27</td>\n      <td>211219</td>\n      <td>21</td>\n      <td>4800</td>\n      <td>256</td>\n      <td>FOLIAR 2</td>\n      <td>Fertilizante</td>\n      <td>14.0</td>\n    </tr>\n    <tr>\n      <th>32</th>\n      <td>71</td>\n      <td>3773</td>\n      <td>007</td>\n      <td>2019-05-24</td>\n      <td>211219</td>\n      <td>33514</td>\n      <td>2019-03-07</td>\n      <td>2020-03-27</td>\n      <td>211219</td>\n      <td>21</td>\n      <td>4800</td>\n      <td>256</td>\n      <td>FOLIAR 3</td>\n      <td>Fertilizante</td>\n      <td>31.0</td>\n    </tr>\n    <tr>\n      <th>33</th>\n      <td>73</td>\n      <td>3791</td>\n      <td>008</td>\n      <td>2019-06-04</td>\n      <td>211219</td>\n      <td>33514</td>\n      <td>2019-03-07</td>\n      <td>2020-03-27</td>\n      <td>211219</td>\n      <td>21</td>\n      <td>4800</td>\n      <td>256</td>\n      <td>FOLIAR 4</td>\n      <td>Fertilizante</td>\n      <td>11.0</td>\n    </tr>\n    <tr>\n      <th>34</th>\n      <td>74</td>\n      <td>3839</td>\n      <td>011</td>\n      <td>2019-06-17</td>\n      <td>211219</td>\n      <td>33514</td>\n      <td>2019-03-07</td>\n      <td>2020-03-27</td>\n      <td>211219</td>\n      <td>21</td>\n      <td>4800</td>\n      <td>256</td>\n      <td>FOLIAR 5</td>\n      <td>Fertilizante</td>\n      <td>13.0</td>\n    </tr>\n    <tr>\n      <th>35</th>\n      <td>78</td>\n      <td>3942</td>\n      <td>012</td>\n      <td>2019-07-15</td>\n      <td>211219</td>\n      <td>33514</td>\n      <td>2019-03-07</td>\n      <td>2020-03-27</td>\n      <td>211219</td>\n      <td>21</td>\n      <td>4800</td>\n      <td>256</td>\n      <td>FOLIAR 6</td>\n      <td>Fertilizante</td>\n      <td>28.0</td>\n    </tr>\n    <tr>\n      <th>36</th>\n      <td>81</td>\n      <td>3998</td>\n      <td>014</td>\n      <td>2019-07-29</td>\n      <td>211219</td>\n      <td>33514</td>\n      <td>2019-03-07</td>\n      <td>2020-03-27</td>\n      <td>211219</td>\n      <td>21</td>\n      <td>4800</td>\n      <td>256</td>\n      <td>FOLIAR 7</td>\n      <td>Fertilizante</td>\n      <td>14.0</td>\n    </tr>\n    <tr>\n      <th>37</th>\n      <td>83</td>\n      <td>4116</td>\n      <td>015</td>\n      <td>2019-08-15</td>\n      <td>211219</td>\n      <td>33514</td>\n      <td>2019-03-07</td>\n      <td>2020-03-27</td>\n      <td>211219</td>\n      <td>21</td>\n      <td>4800</td>\n      <td>256</td>\n      <td>FOLIAR 8</td>\n      <td>Fertilizante</td>\n      <td>17.0</td>\n    </tr>\n    <tr>\n      <th>38</th>\n      <td>84</td>\n      <td>4104</td>\n      <td>017</td>\n      <td>2019-08-30</td>\n      <td>211219</td>\n      <td>33514</td>\n      <td>2019-03-07</td>\n      <td>2020-03-27</td>\n      <td>211219</td>\n      <td>21</td>\n      <td>4800</td>\n      <td>256</td>\n      <td>FOLIAR 9</td>\n      <td>Fertilizante</td>\n      <td>15.0</td>\n    </tr>\n    <tr>\n      <th>39</th>\n      <td>86</td>\n      <td>4159</td>\n      <td>018</td>\n      <td>2019-09-10</td>\n      <td>211219</td>\n      <td>33514</td>\n      <td>2019-03-07</td>\n      <td>2020-03-27</td>\n      <td>211219</td>\n      <td>21</td>\n      <td>4800</td>\n      <td>256</td>\n      <td>FOLIAR 10</td>\n      <td>Fertilizante</td>\n      <td>11.0</td>\n    </tr>\n    <tr>\n      <th>40</th>\n      <td>87</td>\n      <td>4143</td>\n      <td>018</td>\n      <td>2019-09-11</td>\n      <td>211219</td>\n      <td>33514</td>\n      <td>2019-03-07</td>\n      <td>2020-03-27</td>\n      <td>211219</td>\n      <td>21</td>\n      <td>4800</td>\n      <td>256</td>\n      <td>FOLIAR 10</td>\n      <td>Fertilizante</td>\n      <td>1.0</td>\n    </tr>\n    <tr>\n      <th>41</th>\n      <td>89</td>\n      <td>4347</td>\n      <td>022</td>\n      <td>2019-10-17</td>\n      <td>211219</td>\n      <td>33514</td>\n      <td>2019-03-07</td>\n      <td>2020-03-27</td>\n      <td>211219</td>\n      <td>21</td>\n      <td>4800</td>\n      <td>256</td>\n      <td>FOLIAR 12</td>\n      <td>Fertilizante</td>\n      <td>36.0</td>\n    </tr>\n    <tr>\n      <th>42</th>\n      <td>93</td>\n      <td>4445</td>\n      <td>025</td>\n      <td>2019-11-22</td>\n      <td>211219</td>\n      <td>33514</td>\n      <td>2019-03-07</td>\n      <td>2020-03-27</td>\n      <td>211219</td>\n      <td>21</td>\n      <td>4800</td>\n      <td>256</td>\n      <td>FOLIAR 14</td>\n      <td>Fertilizante</td>\n      <td>36.0</td>\n    </tr>\n    <tr>\n      <th>43</th>\n      <td>94</td>\n      <td>4456</td>\n      <td>027</td>\n      <td>2019-11-28</td>\n      <td>211219</td>\n      <td>33514</td>\n      <td>2019-03-07</td>\n      <td>2020-03-27</td>\n      <td>211219</td>\n      <td>21</td>\n      <td>4800</td>\n      <td>256</td>\n      <td>FOLIAR 15</td>\n      <td>Fertilizante</td>\n      <td>6.0</td>\n    </tr>\n    <tr>\n      <th>44</th>\n      <td>97</td>\n      <td>4605</td>\n      <td>031.V10</td>\n      <td>2019-12-24</td>\n      <td>211219</td>\n      <td>33514</td>\n      <td>2019-03-07</td>\n      <td>2020-03-27</td>\n      <td>211219</td>\n      <td>21</td>\n      <td>4800</td>\n      <td>256</td>\n      <td>FOLIAR 16 V10</td>\n      <td>Fertilizante</td>\n      <td>26.0</td>\n    </tr>\n    <tr>\n      <th>45</th>\n      <td>100</td>\n      <td>3621</td>\n      <td>003</td>\n      <td>2019-04-09</td>\n      <td>211419</td>\n      <td>13809</td>\n      <td>2019-03-06</td>\n      <td>2020-03-27</td>\n      <td>211419</td>\n      <td>21</td>\n      <td>4928</td>\n      <td>256</td>\n      <td>FOLIAR 1</td>\n      <td>Fertilizante</td>\n      <td>NaN</td>\n    </tr>\n    <tr>\n      <th>46</th>\n      <td>101</td>\n      <td>3668</td>\n      <td>004</td>\n      <td>2019-04-23</td>\n      <td>211419</td>\n      <td>13809</td>\n      <td>2019-03-06</td>\n      <td>2020-03-27</td>\n      <td>211419</td>\n      <td>21</td>\n      <td>4928</td>\n      <td>256</td>\n      <td>FOLIAR 2</td>\n      <td>Fertilizante</td>\n      <td>14.0</td>\n    </tr>\n    <tr>\n      <th>47</th>\n      <td>104</td>\n      <td>3773</td>\n      <td>007</td>\n      <td>2019-05-24</td>\n      <td>211419</td>\n      <td>13809</td>\n      <td>2019-03-06</td>\n      <td>2020-03-27</td>\n      <td>211419</td>\n      <td>21</td>\n      <td>4928</td>\n      <td>256</td>\n      <td>FOLIAR 3</td>\n      <td>Fertilizante</td>\n      <td>31.0</td>\n    </tr>\n    <tr>\n      <th>48</th>\n      <td>106</td>\n      <td>3791</td>\n      <td>008</td>\n      <td>2019-06-04</td>\n      <td>211419</td>\n      <td>13809</td>\n      <td>2019-03-06</td>\n      <td>2020-03-27</td>\n      <td>211419</td>\n      <td>21</td>\n      <td>4928</td>\n      <td>256</td>\n      <td>FOLIAR 4</td>\n      <td>Fertilizante</td>\n      <td>11.0</td>\n    </tr>\n    <tr>\n      <th>49</th>\n      <td>107</td>\n      <td>3839</td>\n      <td>011</td>\n      <td>2019-06-17</td>\n      <td>211419</td>\n      <td>13809</td>\n      <td>2019-03-06</td>\n      <td>2020-03-27</td>\n      <td>211419</td>\n      <td>21</td>\n      <td>4928</td>\n      <td>256</td>\n      <td>FOLIAR 5</td>\n      <td>Fertilizante</td>\n      <td>13.0</td>\n    </tr>\n    <tr>\n      <th>50</th>\n      <td>111</td>\n      <td>3942</td>\n      <td>012</td>\n      <td>2019-07-15</td>\n      <td>211419</td>\n      <td>13809</td>\n      <td>2019-03-06</td>\n      <td>2020-03-27</td>\n      <td>211419</td>\n      <td>21</td>\n      <td>4928</td>\n      <td>256</td>\n      <td>FOLIAR 6</td>\n      <td>Fertilizante</td>\n      <td>28.0</td>\n    </tr>\n    <tr>\n      <th>51</th>\n      <td>114</td>\n      <td>3998</td>\n      <td>014</td>\n      <td>2019-07-29</td>\n      <td>211419</td>\n      <td>13809</td>\n      <td>2019-03-06</td>\n      <td>2020-03-27</td>\n      <td>211419</td>\n      <td>21</td>\n      <td>4928</td>\n      <td>256</td>\n      <td>FOLIAR 7</td>\n      <td>Fertilizante</td>\n      <td>14.0</td>\n    </tr>\n    <tr>\n      <th>52</th>\n      <td>116</td>\n      <td>4116</td>\n      <td>015</td>\n      <td>2019-08-15</td>\n      <td>211419</td>\n      <td>13809</td>\n      <td>2019-03-06</td>\n      <td>2020-03-27</td>\n      <td>211419</td>\n      <td>21</td>\n      <td>4928</td>\n      <td>256</td>\n      <td>FOLIAR 8</td>\n      <td>Fertilizante</td>\n      <td>17.0</td>\n    </tr>\n    <tr>\n      <th>53</th>\n      <td>117</td>\n      <td>4104</td>\n      <td>017</td>\n      <td>2019-08-30</td>\n      <td>211419</td>\n      <td>13809</td>\n      <td>2019-03-06</td>\n      <td>2020-03-27</td>\n      <td>211419</td>\n      <td>21</td>\n      <td>4928</td>\n      <td>256</td>\n      <td>FOLIAR 9</td>\n      <td>Fertilizante</td>\n      <td>15.0</td>\n    </tr>\n    <tr>\n      <th>54</th>\n      <td>119</td>\n      <td>4159</td>\n      <td>018</td>\n      <td>2019-09-10</td>\n      <td>211419</td>\n      <td>13809</td>\n      <td>2019-03-06</td>\n      <td>2020-03-27</td>\n      <td>211419</td>\n      <td>21</td>\n      <td>4928</td>\n      <td>256</td>\n      <td>FOLIAR 10</td>\n      <td>Fertilizante</td>\n      <td>11.0</td>\n    </tr>\n    <tr>\n      <th>55</th>\n      <td>120</td>\n      <td>4143</td>\n      <td>018</td>\n      <td>2019-09-11</td>\n      <td>211419</td>\n      <td>13809</td>\n      <td>2019-03-06</td>\n      <td>2020-03-27</td>\n      <td>211419</td>\n      <td>21</td>\n      <td>4928</td>\n      <td>256</td>\n      <td>FOLIAR 10</td>\n      <td>Fertilizante</td>\n      <td>1.0</td>\n    </tr>\n    <tr>\n      <th>56</th>\n      <td>122</td>\n      <td>4347</td>\n      <td>022</td>\n      <td>2019-10-17</td>\n      <td>211419</td>\n      <td>13809</td>\n      <td>2019-03-06</td>\n      <td>2020-03-27</td>\n      <td>211419</td>\n      <td>21</td>\n      <td>4928</td>\n      <td>256</td>\n      <td>FOLIAR 12</td>\n      <td>Fertilizante</td>\n      <td>36.0</td>\n    </tr>\n    <tr>\n      <th>57</th>\n      <td>126</td>\n      <td>4445</td>\n      <td>025</td>\n      <td>2019-11-22</td>\n      <td>211419</td>\n      <td>13809</td>\n      <td>2019-03-06</td>\n      <td>2020-03-27</td>\n      <td>211419</td>\n      <td>21</td>\n      <td>4928</td>\n      <td>256</td>\n      <td>FOLIAR 14</td>\n      <td>Fertilizante</td>\n      <td>36.0</td>\n    </tr>\n    <tr>\n      <th>58</th>\n      <td>127</td>\n      <td>4456</td>\n      <td>027</td>\n      <td>2019-11-28</td>\n      <td>211419</td>\n      <td>13809</td>\n      <td>2019-03-06</td>\n      <td>2020-03-27</td>\n      <td>211419</td>\n      <td>21</td>\n      <td>4928</td>\n      <td>256</td>\n      <td>FOLIAR 15</td>\n      <td>Fertilizante</td>\n      <td>6.0</td>\n    </tr>\n    <tr>\n      <th>59</th>\n      <td>130</td>\n      <td>4605</td>\n      <td>031.V10</td>\n      <td>2019-12-24</td>\n      <td>211419</td>\n      <td>13809</td>\n      <td>2019-03-06</td>\n      <td>2020-03-27</td>\n      <td>211419</td>\n      <td>21</td>\n      <td>4928</td>\n      <td>256</td>\n      <td>FOLIAR 16 V10</td>\n      <td>Fertilizante</td>\n      <td>26.0</td>\n    </tr>\n  </tbody>\n</table>\n</div>"
     },
     "metadata": {},
     "execution_count": 8
    }
   ],
   "source": [
    "df.query(\"apldate>finiciosiembra\")"
   ]
  },
  {
   "cell_type": "code",
   "execution_count": 3,
   "metadata": {},
   "outputs": [],
   "source": [
    "df = pd.read_excel(\"prueba_query_memoria.xlsx\")"
   ]
  },
  {
   "cell_type": "code",
   "execution_count": 5,
   "metadata": {},
   "outputs": [
    {
     "output_type": "execute_result",
     "data": {
      "text/plain": [
       "blocknumber  area  plantcant  finiciosiembra  finduccion\n",
       "290620       1848  8090       2020-05-27      NaN           18.833333\n",
       "291020       3045  15181      2020-05-22      NaN           18.833333\n",
       "291320       8166  33450      2020-05-22      NaN           18.833333\n",
       "291520       4446  19050      2020-05-22      NaN           18.833333\n",
       "291620       4224  21268      2020-05-26      NaN           23.500000\n",
       "Name: diff, dtype: float64"
      ]
     },
     "metadata": {},
     "execution_count": 5
    }
   ],
   "source": [
    "df.groupby([\"blocknumber\",\"area\",\"plantcant\",\"finiciosiembra\",\"finduccion\"],dropna=False)[\"diff\"].mean()"
   ]
  },
  {
   "cell_type": "code",
   "execution_count": 3,
   "metadata": {},
   "outputs": [],
   "source": [
    "categorias_de_aplicacion = pd.read_excel(\"relacion_insumos_principales_categorias.xlsx\")"
   ]
  },
  {
   "cell_type": "code",
   "execution_count": 21,
   "metadata": {},
   "outputs": [],
   "source": [
    "peso_planta = pd.read_excel(\"peso_planta.xlsx\",dtype={\"bloque\":str})\n",
    "peso_planta.sort_values(by=[\"bloque\",\"edad\"],inplace=True)\n"
   ]
  },
  {
   "cell_type": "code",
   "execution_count": 25,
   "metadata": {},
   "outputs": [],
   "source": [
    "import plotly.express as px\n",
    "df = pd.DataFrame(columns=[\"edad\",\"promedio\"])\n",
    "fig = px.scatter(df, x=\"edad\", y=\"promedio\")"
   ]
  },
  {
   "cell_type": "code",
   "execution_count": 15,
   "metadata": {},
   "outputs": [],
   "source": [
    "homologacion = categorias_de_aplicacion.groupby(\"codigo\")[\"categorias_por_insumo\"].apply(lambda x: ','.join(x)).reset_index()"
   ]
  },
  {
   "cell_type": "code",
   "execution_count": 17,
   "metadata": {},
   "outputs": [
    {
     "output_type": "execute_result",
     "data": {
      "text/plain": [
       "     codigo categorias_por_insumo\n",
       "0       001             herbicida\n",
       "8       010             herbicida\n",
       "22  032.V10             herbicida"
      ],
      "text/html": "<div>\n<style scoped>\n    .dataframe tbody tr th:only-of-type {\n        vertical-align: middle;\n    }\n\n    .dataframe tbody tr th {\n        vertical-align: top;\n    }\n\n    .dataframe thead th {\n        text-align: right;\n    }\n</style>\n<table border=\"1\" class=\"dataframe\">\n  <thead>\n    <tr style=\"text-align: right;\">\n      <th></th>\n      <th>codigo</th>\n      <th>categorias_por_insumo</th>\n    </tr>\n  </thead>\n  <tbody>\n    <tr>\n      <th>0</th>\n      <td>001</td>\n      <td>herbicida</td>\n    </tr>\n    <tr>\n      <th>8</th>\n      <td>010</td>\n      <td>herbicida</td>\n    </tr>\n    <tr>\n      <th>22</th>\n      <td>032.V10</td>\n      <td>herbicida</td>\n    </tr>\n  </tbody>\n</table>\n</div>"
     },
     "metadata": {},
     "execution_count": 17
    }
   ],
   "source": [
    "homologacion[homologacion['categorias_por_insumo'].str.contains(\"herbicida\")]"
   ]
  },
  {
   "cell_type": "code",
   "execution_count": 29,
   "metadata": {},
   "outputs": [
    {
     "output_type": "execute_result",
     "data": {
      "text/plain": [
       "'herbicida'"
      ]
     },
     "metadata": {},
     "execution_count": 29
    }
   ],
   "source": [
    "categorias_de_aplicacion.iat[0,-1]"
   ]
  },
  {
   "cell_type": "code",
   "execution_count": 9,
   "metadata": {},
   "outputs": [
    {
     "output_type": "execute_result",
     "data": {
      "text/plain": [
       "['{', 'herbicida', '}']"
      ]
     },
     "metadata": {},
     "execution_count": 9
    }
   ],
   "source": [
    "categorias_de_aplicacion.iat[10,-1].split(\"'\")"
   ]
  },
  {
   "cell_type": "code",
   "execution_count": 36,
   "metadata": {},
   "outputs": [],
   "source": [
    "tooltip = [\n",
    "        {\n",
    "            column: {'value': str(value), 'type': 'markdown'}\n",
    "            for column, value in row.items()\n",
    "        } for row in nutricion_preforza_pc[[\"formula\"]].to_dict('rows')\n",
    "    ]"
   ]
  },
  {
   "cell_type": "code",
   "execution_count": 42,
   "metadata": {},
   "outputs": [
    {
     "output_type": "execute_result",
     "data": {
      "text/plain": [
       "{'formula': {'value': 'FF-01', 'type': 'markdown'}}"
      ]
     },
     "metadata": {},
     "execution_count": 42
    }
   ],
   "source": [
    "tooltip[3]"
   ]
  },
  {
   "cell_type": "code",
   "execution_count": 75,
   "metadata": {},
   "outputs": [],
   "source": [
    "insumos = pd.read_excel(\"insumos_por_aplicacion.xlsx\")\n",
    "insumos[\"agrupacion\"] = insumos.groupby(\"id_formula\")[\"Descripcion\"].transform(lambda x: \"\\n\".join(x))\n",
    "insumos.drop_duplicates(subset=[\"id_formula\"],inplace=True)\n",
    "insumos[\"tooltip\"]=\"Descripción aplicación: \" + insumos.descripcion_formula + \"\\n\"+insumos.agrupacion\n",
    "diccionario_insumos = insumos.set_index(\"id_formula\")[\"tooltip\"].to_dict()"
   ]
  },
  {
   "cell_type": "code",
   "execution_count": 81,
   "metadata": {},
   "outputs": [],
   "source": []
  },
  {
   "cell_type": "code",
   "execution_count": 2,
   "metadata": {},
   "outputs": [],
   "source": [
    "calendario_plan = pd.read_excel(\"calendario_aplicaciones.xlsx\")\n",
    "calendario_plan.drop([\"y\"],axis=1,inplace=True)\n",
    "aplicaciones = pd.read_excel(\"entregable1.xlsx\",sheet_name=\"data\")"
   ]
  },
  {
   "cell_type": "code",
   "execution_count": 4,
   "metadata": {},
   "outputs": [],
   "source": [
    "#Extraer fechas de inicio\n",
    "fecha_inicio = aplicaciones.sort_values(by=[\"bloque\",\"fecha_aplicacion\"]).drop_duplicates(subset=[\"bloque\"],keep='first')\n",
    "dicc_fecha_inicio = {}\n",
    "for index, row in fecha_inicio.iterrows():\n",
    "    dicc_fecha_inicio[row[\"bloque\"]] = row[\"fecha_aplicacion\"]"
   ]
  },
  {
   "cell_type": "code",
   "execution_count": 35,
   "metadata": {},
   "outputs": [],
   "source": [
    "aplicaciones_unicas = aplicaciones.sort_values(by=[\"bloque\",\"fecha_aplicacion\"]).drop_duplicates(subset=[\"bloque\",\"homologación\"],keep='first')[[\"fecha_aplicacion\",\"bloque\",\"homologación\"]]"
   ]
  },
  {
   "cell_type": "code",
   "execution_count": 54,
   "metadata": {},
   "outputs": [],
   "source": [
    "dicc_plan_aplicaciones = {}\n",
    "for bloque in dicc_fecha_inicio.keys():\n",
    "\n",
    "    fecha_inicial = dicc_fecha_inicio[bloque]\n",
    "    calendario_temp = calendario_plan.copy()\n",
    "    calendario_temp[\"bloque\"]=bloque\n",
    "    calendario_temp[\"fechas\"]=calendario_temp[\"dias\"].apply(lambda x: fecha_inicial +pd.Timedelta(days=x))\n",
    "    ejecucion_temp = aplicaciones_unicas.query(\"bloque==@bloque\").drop([\"bloque\"],axis=1)\n",
    "    ejecucion_temp.columns = [\"fecha_ejecucion\",\"aplicacion\"]\n",
    "    calendario_temp = calendario_temp.merge(ejecucion_temp,how='left',on=\"aplicacion\")\n",
    "    calendario_temp[\"ejecucion-plan\"]= calendario_temp[\"fecha_ejecucion\"]-calendario_temp[\"fechas\"]\n",
    "    dicc_plan_aplicaciones[bloque] = calendario_temp.copy()\n",
    "\n",
    "file_to_write = open(\"seguimiento_aplicaciones.pkl\", \"wb\")\n",
    "pickle.dump(dicc_plan_aplicaciones, file_to_write)"
   ]
  },
  {
   "cell_type": "code",
   "execution_count": 55,
   "metadata": {},
   "outputs": [],
   "source": []
  },
  {
   "cell_type": "code",
   "execution_count": 57,
   "metadata": {},
   "outputs": [
    {
     "output_type": "execute_result",
     "data": {
      "text/plain": [
       "dict"
      ]
     },
     "metadata": {},
     "execution_count": 57
    }
   ],
   "source": [
    "type(object_file)"
   ]
  },
  {
   "cell_type": "code",
   "execution_count": 82,
   "metadata": {},
   "outputs": [],
   "source": [
    "file = open(\"seguimiento_aplicaciones.pkl\",'rb')\n",
    "object_file = pickle.load(file)\n",
    "file.close()\n",
    "fechas_pendientes = pd.concat(object_file.values()).query('fecha_ejecucion in [@pd.NaT]')[[\"aplicacion\",\"bloque\",\"fechas\"]]\n",
    "fechas_pendientes[\"retraso\"]=pd.Timestamp.today() - fechas_pendientes[\"fechas\"]\n",
    "fechas_pendientes[\"retraso\"] = fechas_pendientes.retraso.dt.days\n",
    "fechas_pendientes.query(\"retraso>0\",inplace=True)\n",
    "fechas_pendientes.sort_values(by=\"retraso\",ascending=False,inplace=True)"
   ]
  },
  {
   "cell_type": "code",
   "execution_count": 83,
   "metadata": {},
   "outputs": [
    {
     "output_type": "execute_result",
     "data": {
      "text/plain": [
       "          aplicacion  bloque     fechas  retraso\n",
       "8          Edafico 1   10619 2020-03-22      206\n",
       "4       Protección 2   10120 2020-05-06      161\n",
       "4       Protección 2   10419 2020-05-06      161\n",
       "4       Protección 2   10220 2020-05-06      161\n",
       "4       Protección 2   10519 2020-05-06      161\n",
       "4       Protección 2   10320 2020-05-06      161\n",
       "8          Edafico 1   10220 2020-05-31      136\n",
       "8          Edafico 1   10519 2020-05-31      136\n",
       "8          Edafico 1   10120 2020-05-31      136\n",
       "8          Edafico 1   10419 2020-05-31      136\n",
       "8          Edafico 1   10320 2020-05-31      136\n",
       "12          Foliar 5   10320 2020-06-30      106\n",
       "21         Foliar 10   10619 2020-07-15       91\n",
       "22      Protección 7   10619 2020-07-20       86\n",
       "23   Visita previa 9   10619 2020-07-30       76\n",
       "24         Foliar 11   10619 2020-07-30       76\n",
       "25       Herbicida 6   10619 2020-08-09       66\n",
       "26         Foliar 12   10619 2020-08-14       61\n",
       "27  Visita previa 10   10619 2020-08-19       56\n",
       "29      Protección 8   10619 2020-08-24       51\n",
       "28         Foliar 13   10619 2020-08-29       46\n",
       "30         Foliar 14   10619 2020-09-08       36\n",
       "31  Visita previa 11   10619 2020-09-18       26\n",
       "32       Herbicida 7   10619 2020-09-18       26\n",
       "21         Foliar 10   10519 2020-09-23       21\n",
       "21         Foliar 10   10120 2020-09-23       21\n",
       "33         Foliar 15   10619 2020-09-23       21\n",
       "21         Foliar 10   10220 2020-09-23       21\n",
       "21         Foliar 10   10419 2020-09-23       21\n",
       "21         Foliar 10   10320 2020-09-23       21\n",
       "22      Protección 7   10519 2020-09-28       16\n",
       "22      Protección 7   10220 2020-09-28       16\n",
       "22      Protección 7   10419 2020-09-28       16\n",
       "22      Protección 7   10120 2020-09-28       16\n",
       "22      Protección 7   10320 2020-09-28       16\n",
       "34      Protección 9   10619 2020-10-03       11\n",
       "23   Visita previa 9   10419 2020-10-08        6\n",
       "24         Foliar 11   10519 2020-10-08        6\n",
       "23   Visita previa 9   10519 2020-10-08        6\n",
       "24         Foliar 11   10419 2020-10-08        6\n",
       "24         Foliar 11   10320 2020-10-08        6\n",
       "23   Visita previa 9   10320 2020-10-08        6\n",
       "24         Foliar 11   10220 2020-10-08        6\n",
       "23   Visita previa 9   10220 2020-10-08        6\n",
       "24         Foliar 11   10120 2020-10-08        6\n",
       "23   Visita previa 9   10120 2020-10-08        6\n",
       "35         Foliar 16   10619 2020-10-08        6"
      ],
      "text/html": "<div>\n<style scoped>\n    .dataframe tbody tr th:only-of-type {\n        vertical-align: middle;\n    }\n\n    .dataframe tbody tr th {\n        vertical-align: top;\n    }\n\n    .dataframe thead th {\n        text-align: right;\n    }\n</style>\n<table border=\"1\" class=\"dataframe\">\n  <thead>\n    <tr style=\"text-align: right;\">\n      <th></th>\n      <th>aplicacion</th>\n      <th>bloque</th>\n      <th>fechas</th>\n      <th>retraso</th>\n    </tr>\n  </thead>\n  <tbody>\n    <tr>\n      <th>8</th>\n      <td>Edafico 1</td>\n      <td>10619</td>\n      <td>2020-03-22</td>\n      <td>206</td>\n    </tr>\n    <tr>\n      <th>4</th>\n      <td>Protección 2</td>\n      <td>10120</td>\n      <td>2020-05-06</td>\n      <td>161</td>\n    </tr>\n    <tr>\n      <th>4</th>\n      <td>Protección 2</td>\n      <td>10419</td>\n      <td>2020-05-06</td>\n      <td>161</td>\n    </tr>\n    <tr>\n      <th>4</th>\n      <td>Protección 2</td>\n      <td>10220</td>\n      <td>2020-05-06</td>\n      <td>161</td>\n    </tr>\n    <tr>\n      <th>4</th>\n      <td>Protección 2</td>\n      <td>10519</td>\n      <td>2020-05-06</td>\n      <td>161</td>\n    </tr>\n    <tr>\n      <th>4</th>\n      <td>Protección 2</td>\n      <td>10320</td>\n      <td>2020-05-06</td>\n      <td>161</td>\n    </tr>\n    <tr>\n      <th>8</th>\n      <td>Edafico 1</td>\n      <td>10220</td>\n      <td>2020-05-31</td>\n      <td>136</td>\n    </tr>\n    <tr>\n      <th>8</th>\n      <td>Edafico 1</td>\n      <td>10519</td>\n      <td>2020-05-31</td>\n      <td>136</td>\n    </tr>\n    <tr>\n      <th>8</th>\n      <td>Edafico 1</td>\n      <td>10120</td>\n      <td>2020-05-31</td>\n      <td>136</td>\n    </tr>\n    <tr>\n      <th>8</th>\n      <td>Edafico 1</td>\n      <td>10419</td>\n      <td>2020-05-31</td>\n      <td>136</td>\n    </tr>\n    <tr>\n      <th>8</th>\n      <td>Edafico 1</td>\n      <td>10320</td>\n      <td>2020-05-31</td>\n      <td>136</td>\n    </tr>\n    <tr>\n      <th>12</th>\n      <td>Foliar 5</td>\n      <td>10320</td>\n      <td>2020-06-30</td>\n      <td>106</td>\n    </tr>\n    <tr>\n      <th>21</th>\n      <td>Foliar 10</td>\n      <td>10619</td>\n      <td>2020-07-15</td>\n      <td>91</td>\n    </tr>\n    <tr>\n      <th>22</th>\n      <td>Protección 7</td>\n      <td>10619</td>\n      <td>2020-07-20</td>\n      <td>86</td>\n    </tr>\n    <tr>\n      <th>23</th>\n      <td>Visita previa 9</td>\n      <td>10619</td>\n      <td>2020-07-30</td>\n      <td>76</td>\n    </tr>\n    <tr>\n      <th>24</th>\n      <td>Foliar 11</td>\n      <td>10619</td>\n      <td>2020-07-30</td>\n      <td>76</td>\n    </tr>\n    <tr>\n      <th>25</th>\n      <td>Herbicida 6</td>\n      <td>10619</td>\n      <td>2020-08-09</td>\n      <td>66</td>\n    </tr>\n    <tr>\n      <th>26</th>\n      <td>Foliar 12</td>\n      <td>10619</td>\n      <td>2020-08-14</td>\n      <td>61</td>\n    </tr>\n    <tr>\n      <th>27</th>\n      <td>Visita previa 10</td>\n      <td>10619</td>\n      <td>2020-08-19</td>\n      <td>56</td>\n    </tr>\n    <tr>\n      <th>29</th>\n      <td>Protección 8</td>\n      <td>10619</td>\n      <td>2020-08-24</td>\n      <td>51</td>\n    </tr>\n    <tr>\n      <th>28</th>\n      <td>Foliar 13</td>\n      <td>10619</td>\n      <td>2020-08-29</td>\n      <td>46</td>\n    </tr>\n    <tr>\n      <th>30</th>\n      <td>Foliar 14</td>\n      <td>10619</td>\n      <td>2020-09-08</td>\n      <td>36</td>\n    </tr>\n    <tr>\n      <th>31</th>\n      <td>Visita previa 11</td>\n      <td>10619</td>\n      <td>2020-09-18</td>\n      <td>26</td>\n    </tr>\n    <tr>\n      <th>32</th>\n      <td>Herbicida 7</td>\n      <td>10619</td>\n      <td>2020-09-18</td>\n      <td>26</td>\n    </tr>\n    <tr>\n      <th>21</th>\n      <td>Foliar 10</td>\n      <td>10519</td>\n      <td>2020-09-23</td>\n      <td>21</td>\n    </tr>\n    <tr>\n      <th>21</th>\n      <td>Foliar 10</td>\n      <td>10120</td>\n      <td>2020-09-23</td>\n      <td>21</td>\n    </tr>\n    <tr>\n      <th>33</th>\n      <td>Foliar 15</td>\n      <td>10619</td>\n      <td>2020-09-23</td>\n      <td>21</td>\n    </tr>\n    <tr>\n      <th>21</th>\n      <td>Foliar 10</td>\n      <td>10220</td>\n      <td>2020-09-23</td>\n      <td>21</td>\n    </tr>\n    <tr>\n      <th>21</th>\n      <td>Foliar 10</td>\n      <td>10419</td>\n      <td>2020-09-23</td>\n      <td>21</td>\n    </tr>\n    <tr>\n      <th>21</th>\n      <td>Foliar 10</td>\n      <td>10320</td>\n      <td>2020-09-23</td>\n      <td>21</td>\n    </tr>\n    <tr>\n      <th>22</th>\n      <td>Protección 7</td>\n      <td>10519</td>\n      <td>2020-09-28</td>\n      <td>16</td>\n    </tr>\n    <tr>\n      <th>22</th>\n      <td>Protección 7</td>\n      <td>10220</td>\n      <td>2020-09-28</td>\n      <td>16</td>\n    </tr>\n    <tr>\n      <th>22</th>\n      <td>Protección 7</td>\n      <td>10419</td>\n      <td>2020-09-28</td>\n      <td>16</td>\n    </tr>\n    <tr>\n      <th>22</th>\n      <td>Protección 7</td>\n      <td>10120</td>\n      <td>2020-09-28</td>\n      <td>16</td>\n    </tr>\n    <tr>\n      <th>22</th>\n      <td>Protección 7</td>\n      <td>10320</td>\n      <td>2020-09-28</td>\n      <td>16</td>\n    </tr>\n    <tr>\n      <th>34</th>\n      <td>Protección 9</td>\n      <td>10619</td>\n      <td>2020-10-03</td>\n      <td>11</td>\n    </tr>\n    <tr>\n      <th>23</th>\n      <td>Visita previa 9</td>\n      <td>10419</td>\n      <td>2020-10-08</td>\n      <td>6</td>\n    </tr>\n    <tr>\n      <th>24</th>\n      <td>Foliar 11</td>\n      <td>10519</td>\n      <td>2020-10-08</td>\n      <td>6</td>\n    </tr>\n    <tr>\n      <th>23</th>\n      <td>Visita previa 9</td>\n      <td>10519</td>\n      <td>2020-10-08</td>\n      <td>6</td>\n    </tr>\n    <tr>\n      <th>24</th>\n      <td>Foliar 11</td>\n      <td>10419</td>\n      <td>2020-10-08</td>\n      <td>6</td>\n    </tr>\n    <tr>\n      <th>24</th>\n      <td>Foliar 11</td>\n      <td>10320</td>\n      <td>2020-10-08</td>\n      <td>6</td>\n    </tr>\n    <tr>\n      <th>23</th>\n      <td>Visita previa 9</td>\n      <td>10320</td>\n      <td>2020-10-08</td>\n      <td>6</td>\n    </tr>\n    <tr>\n      <th>24</th>\n      <td>Foliar 11</td>\n      <td>10220</td>\n      <td>2020-10-08</td>\n      <td>6</td>\n    </tr>\n    <tr>\n      <th>23</th>\n      <td>Visita previa 9</td>\n      <td>10220</td>\n      <td>2020-10-08</td>\n      <td>6</td>\n    </tr>\n    <tr>\n      <th>24</th>\n      <td>Foliar 11</td>\n      <td>10120</td>\n      <td>2020-10-08</td>\n      <td>6</td>\n    </tr>\n    <tr>\n      <th>23</th>\n      <td>Visita previa 9</td>\n      <td>10120</td>\n      <td>2020-10-08</td>\n      <td>6</td>\n    </tr>\n    <tr>\n      <th>35</th>\n      <td>Foliar 16</td>\n      <td>10619</td>\n      <td>2020-10-08</td>\n      <td>6</td>\n    </tr>\n  </tbody>\n</table>\n</div>"
     },
     "metadata": {},
     "execution_count": 83
    }
   ],
   "source": [
    "fechas_pendientes"
   ]
  },
  {
   "cell_type": "code",
   "execution_count": 67,
   "metadata": {},
   "outputs": [
    {
     "output_type": "execute_result",
     "data": {
      "text/plain": [
       "Timestamp('2020-10-14 08:29:18.430450')"
      ]
     },
     "metadata": {},
     "execution_count": 67
    }
   ],
   "source": [
    "pd.Timestamp.today()"
   ]
  }
 ]
}